{
 "cells": [
  {
   "cell_type": "code",
   "execution_count": 1,
   "id": "d2fadb2e-204a-4f1f-bf28-619157d71e0b",
   "metadata": {},
   "outputs": [],
   "source": [
    "import json\n",
    "import pandas as pd\n",
    "import networkx as nx\n",
    "import matplotlib.pyplot as plt\n",
    "\n",
    "from neo4j import GraphDatabase\n",
    "\n",
    "from config import load_config\n",
    "from graphs import (\n",
    "    explode_columns,\n",
    "    run_query,\n",
    "    get_all_relationships,\n",
    "    get_all_nodes,\n",
    "    cleanup_database,\n",
    "    create_relationship,\n",
    "    create_node,\n",
    ")"
   ]
  },
  {
   "cell_type": "code",
   "execution_count": 2,
   "id": "98b5d507-898c-434d-9238-c85d5001a527",
   "metadata": {},
   "outputs": [],
   "source": [
    "# try:\n",
    "#     import cudf\n",
    "#     import cugraph\n",
    "# except RuntimeError as e:\n",
    "#     print(f\"Error: {e}\")"
   ]
  },
  {
   "cell_type": "markdown",
   "id": "ebcb77a8-4bd8-4f64-aff1-7e2adffee62b",
   "metadata": {},
   "source": [
    "## TODO\n",
    "\n",
    "Sentences should be created in different graph components\n",
    "\n",
    "Create graph relationships between sequences to point the textual order of sentences.\n",
    "\n",
    "Instead sentences we should use noun phrases\n",
    "\n",
    "write a code that reads the full graph from a neo4j data base, loads it as a cugraph object and plots it using networkX. Labels and Properties from nodes in neo4j need to be preserved in networkX graph, also relationship types and properties.\n",
    "\n",
    "\n"
   ]
  },
  {
   "cell_type": "code",
   "execution_count": 3,
   "id": "4ecb46be-e61c-4a7d-b1ff-c51e56b03783",
   "metadata": {},
   "outputs": [],
   "source": [
    "config, secrets = load_config()"
   ]
  },
  {
   "cell_type": "markdown",
   "id": "2eb714cb-324b-43b9-a75c-483268fda1b6",
   "metadata": {},
   "source": [
    "## Some experimentations with queries"
   ]
  },
  {
   "cell_type": "code",
   "execution_count": 4,
   "id": "e98494ea-9988-42b9-b194-45bd8c862ea3",
   "metadata": {},
   "outputs": [],
   "source": [
    "query = \"MATCH (m)-[r]->(n) return m, r, n\""
   ]
  },
  {
   "cell_type": "code",
   "execution_count": 5,
   "id": "2dbbbc65-2aa1-4b10-b6f0-779bd9434362",
   "metadata": {},
   "outputs": [],
   "source": [
    "driver = GraphDatabase.driver(config.neo4j.uri, auth=(config.neo4j.username, secrets.neo4j_password))"
   ]
  },
  {
   "cell_type": "code",
   "execution_count": 6,
   "id": "93ad487f-83fe-45e0-8d7e-14cd8cd58c07",
   "metadata": {},
   "outputs": [],
   "source": [
    "session = driver.session(database=config.neo4j.database)"
   ]
  },
  {
   "cell_type": "code",
   "execution_count": 7,
   "id": "f27269a2-ec06-46ea-a6f3-c558e06955c6",
   "metadata": {},
   "outputs": [],
   "source": [
    "df = run_query(session, query)"
   ]
  },
  {
   "cell_type": "code",
   "execution_count": 8,
   "id": "ae39c6a1-b419-4641-a901-9697c201480d",
   "metadata": {},
   "outputs": [],
   "source": [
    "# Standard\n",
    "# rels = get_all_relationships(session)\n",
    "# Different approach...\n",
    "rels = session.execute_read(get_all_relationships)"
   ]
  },
  {
   "cell_type": "code",
   "execution_count": 9,
   "id": "b214a002-3b1f-4902-aa28-036903a9685d",
   "metadata": {},
   "outputs": [
    {
     "data": {
      "text/html": [
       "<div>\n",
       "<style scoped>\n",
       "    .dataframe tbody tr th:only-of-type {\n",
       "        vertical-align: middle;\n",
       "    }\n",
       "\n",
       "    .dataframe tbody tr th {\n",
       "        vertical-align: top;\n",
       "    }\n",
       "\n",
       "    .dataframe thead th {\n",
       "        text-align: right;\n",
       "    }\n",
       "</style>\n",
       "<table border=\"1\" class=\"dataframe\">\n",
       "  <thead>\n",
       "    <tr style=\"text-align: right;\">\n",
       "      <th></th>\n",
       "    </tr>\n",
       "  </thead>\n",
       "  <tbody>\n",
       "  </tbody>\n",
       "</table>\n",
       "</div>"
      ],
      "text/plain": [
       "Empty DataFrame\n",
       "Columns: []\n",
       "Index: []"
      ]
     },
     "execution_count": 9,
     "metadata": {},
     "output_type": "execute_result"
    }
   ],
   "source": [
    "rels_df = explode_columns(pd.DataFrame(rels), 'properties')\n",
    "rels_df"
   ]
  },
  {
   "cell_type": "code",
   "execution_count": 10,
   "id": "c5d485e0-a033-492f-a698-a7ae128aaa68",
   "metadata": {},
   "outputs": [],
   "source": [
    "# Standard\n",
    "# nodes = get_all_nodes(session)\n",
    "# Differente approach\n",
    "nodes = session.execute_read(get_all_nodes)"
   ]
  },
  {
   "cell_type": "code",
   "execution_count": 11,
   "id": "6cf90f7c-d08e-45ea-bf51-812f7257cd71",
   "metadata": {},
   "outputs": [
    {
     "data": {
      "text/html": [
       "<div>\n",
       "<style scoped>\n",
       "    .dataframe tbody tr th:only-of-type {\n",
       "        vertical-align: middle;\n",
       "    }\n",
       "\n",
       "    .dataframe tbody tr th {\n",
       "        vertical-align: top;\n",
       "    }\n",
       "\n",
       "    .dataframe thead th {\n",
       "        text-align: right;\n",
       "    }\n",
       "</style>\n",
       "<table border=\"1\" class=\"dataframe\">\n",
       "  <thead>\n",
       "    <tr style=\"text-align: right;\">\n",
       "      <th></th>\n",
       "    </tr>\n",
       "  </thead>\n",
       "  <tbody>\n",
       "  </tbody>\n",
       "</table>\n",
       "</div>"
      ],
      "text/plain": [
       "Empty DataFrame\n",
       "Columns: []\n",
       "Index: []"
      ]
     },
     "execution_count": 11,
     "metadata": {},
     "output_type": "execute_result"
    }
   ],
   "source": [
    "nodes_df = explode_columns(pd.DataFrame(nodes), [\"properties\", \"labels\"])\n",
    "nodes_df"
   ]
  },
  {
   "cell_type": "code",
   "execution_count": 12,
   "id": "062b6d1b-26a4-403c-a275-0146f452be11",
   "metadata": {},
   "outputs": [],
   "source": [
    "session.close()\n",
    "driver.close()"
   ]
  },
  {
   "cell_type": "markdown",
   "id": "9d81006d-e388-4c62-9b8d-ae3e9252148f",
   "metadata": {},
   "source": [
    "### Experiments with data creation from json"
   ]
  },
  {
   "cell_type": "code",
   "execution_count": 13,
   "id": "df40ce33-5991-4084-ade3-4df96d9e8966",
   "metadata": {},
   "outputs": [],
   "source": [
    "driver = GraphDatabase.driver(config.neo4j.uri, auth=(config.neo4j.username, secrets.neo4j_password))"
   ]
  },
  {
   "cell_type": "code",
   "execution_count": 14,
   "id": "1f79b504-85d8-4ef2-a980-f364046d9b81",
   "metadata": {},
   "outputs": [],
   "source": [
    "graph_json_file = \"graph_data.json\"\n",
    "with open(graph_json_file, 'r') as f:\n",
    "        data = json.load(f)"
   ]
  },
  {
   "cell_type": "code",
   "execution_count": 15,
   "id": "1cf2b170-6c81-4bc7-9e3b-def836b01172",
   "metadata": {},
   "outputs": [
    {
     "name": "stdout",
     "output_type": "stream",
     "text": [
      "NODES\n",
      "{'uuid': 1, 'labels': 'PERSON', 'name': 'Alice', 'age': 30}\n",
      "{'uuid': 2, 'labels': 'PERSON', 'name': 'Bob', 'age': 35}\n",
      "{'uuid': 3, 'labels': 'EMPLOYEE', 'name': 'Charlie', 'age': 28}\n",
      "{'uuid': 4, 'labels': 'COMPANY', 'name': 'TechCorp'}\n",
      "{'uuid': 5, 'labels': ['EMPLOYEE', 'PERSON'], 'name': 'Alice'}\n",
      "RELATIONSHIPS\n",
      "{'source': 1, 'target': 2, 'type': 'LIKES', 'since': '2020-01-01', 'strength': 0.8}\n",
      "{'source': 2, 'target': 4, 'type': 'WORKS_AT', 'since': '2018-05-15', 'position': 'Manager'}\n",
      "{'source': 3, 'target': 4, 'type': 'WORKS_AT', 'since': '2019-03-01', 'position': 'Developer'}\n",
      "{'source': 5, 'target': 4, 'type': 'WORKS_AT', 'since': '2018-01-08', 'position': 'CEO'}\n"
     ]
    }
   ],
   "source": [
    "# Show JSON nodes\n",
    "print(\"NODES\")\n",
    "for node in data[\"nodes\"]:\n",
    "    print(node)\n",
    "# Show JSON relationships\n",
    "print(\"RELATIONSHIPS\")\n",
    "for rel in data['relationships']:\n",
    "    print(rel)"
   ]
  },
  {
   "cell_type": "code",
   "execution_count": 16,
   "id": "b70e9154-bedb-41cd-978a-eb262abf914b",
   "metadata": {},
   "outputs": [],
   "source": [
    "with driver.session() as session:\n",
    "    summary = cleanup_database(session)\n",
    "    # print(f\"Deleted {summary.counters.nodes_deleted} nodes and {summary.counters.relationships_deleted} relationships.\")    \n",
    "    for node in data[\"nodes\"]:\n",
    "        session.execute_write(create_node, node)\n",
    "    for rel in data[\"relationships\"]:\n",
    "        session.execute_write(create_relationship, rel)"
   ]
  },
  {
   "cell_type": "code",
   "execution_count": 17,
   "id": "421e01a0-35db-41c2-add1-813fa2e33c0a",
   "metadata": {},
   "outputs": [],
   "source": [
    "# Method 1\n",
    "with driver.session() as session:\n",
    "    df = run_query(session, query)"
   ]
  },
  {
   "cell_type": "code",
   "execution_count": 18,
   "id": "3914f554-a8e6-4a10-9f65-574a0b38b752",
   "metadata": {},
   "outputs": [],
   "source": [
    "# Method 2\n",
    "with driver.session() as session:\n",
    "    df2 = session.execute_read(run_query, query)"
   ]
  },
  {
   "cell_type": "code",
   "execution_count": 19,
   "id": "7a45740b-9748-4d3a-9092-6134dbf8b925",
   "metadata": {},
   "outputs": [
    {
     "data": {
      "text/html": [
       "<div>\n",
       "<style scoped>\n",
       "    .dataframe tbody tr th:only-of-type {\n",
       "        vertical-align: middle;\n",
       "    }\n",
       "\n",
       "    .dataframe tbody tr th {\n",
       "        vertical-align: top;\n",
       "    }\n",
       "\n",
       "    .dataframe thead th {\n",
       "        text-align: right;\n",
       "    }\n",
       "</style>\n",
       "<table border=\"1\" class=\"dataframe\">\n",
       "  <thead>\n",
       "    <tr style=\"text-align: right;\">\n",
       "      <th></th>\n",
       "      <th>m</th>\n",
       "      <th>r</th>\n",
       "      <th>n</th>\n",
       "    </tr>\n",
       "  </thead>\n",
       "  <tbody>\n",
       "    <tr>\n",
       "      <th>0</th>\n",
       "      <td>(name, uuid, age)</td>\n",
       "      <td>(strength, since)</td>\n",
       "      <td>(name, uuid, age)</td>\n",
       "    </tr>\n",
       "    <tr>\n",
       "      <th>1</th>\n",
       "      <td>(name, uuid, age)</td>\n",
       "      <td>(position, since)</td>\n",
       "      <td>(name, uuid)</td>\n",
       "    </tr>\n",
       "    <tr>\n",
       "      <th>2</th>\n",
       "      <td>(name, uuid, age)</td>\n",
       "      <td>(position, since)</td>\n",
       "      <td>(name, uuid)</td>\n",
       "    </tr>\n",
       "    <tr>\n",
       "      <th>3</th>\n",
       "      <td>(name, uuid)</td>\n",
       "      <td>(position, since)</td>\n",
       "      <td>(name, uuid)</td>\n",
       "    </tr>\n",
       "  </tbody>\n",
       "</table>\n",
       "</div>"
      ],
      "text/plain": [
       "                   m                  r                  n\n",
       "0  (name, uuid, age)  (strength, since)  (name, uuid, age)\n",
       "1  (name, uuid, age)  (position, since)       (name, uuid)\n",
       "2  (name, uuid, age)  (position, since)       (name, uuid)\n",
       "3       (name, uuid)  (position, since)       (name, uuid)"
      ]
     },
     "execution_count": 19,
     "metadata": {},
     "output_type": "execute_result"
    }
   ],
   "source": [
    "df"
   ]
  },
  {
   "cell_type": "code",
   "execution_count": 20,
   "id": "09579c19-05c2-47e2-a235-3a9da43b42c8",
   "metadata": {},
   "outputs": [
    {
     "data": {
      "text/plain": [
       "<Node element_id='4:a94a1b6d-fb11-4844-a6e9-31362e907dd0:1' labels=frozenset({'PERSON'}) properties={'name': 'Bob', 'uuid': 2, 'age': 35}>"
      ]
     },
     "execution_count": 20,
     "metadata": {},
     "output_type": "execute_result"
    }
   ],
   "source": [
    "df.iloc[0]['n']"
   ]
  },
  {
   "cell_type": "code",
   "execution_count": 21,
   "id": "535287d9-4fd0-42f1-8221-35871a3472a1",
   "metadata": {},
   "outputs": [
    {
     "data": {
      "text/plain": [
       "<Node element_id='4:a94a1b6d-fb11-4844-a6e9-31362e907dd0:1' labels=frozenset({'PERSON'}) properties={'name': 'Bob', 'uuid': 2, 'age': 35}>"
      ]
     },
     "execution_count": 21,
     "metadata": {},
     "output_type": "execute_result"
    }
   ],
   "source": [
    "df2.iloc[0]['n']"
   ]
  },
  {
   "cell_type": "code",
   "execution_count": null,
   "id": "a7f8a2f4-bde5-4a7c-af96-b81b1bf92d68",
   "metadata": {},
   "outputs": [],
   "source": []
  }
 ],
 "metadata": {
  "kernelspec": {
   "display_name": "Python 3 (ipykernel)",
   "language": "python",
   "name": "python3"
  },
  "language_info": {
   "codemirror_mode": {
    "name": "ipython",
    "version": 3
   },
   "file_extension": ".py",
   "mimetype": "text/x-python",
   "name": "python",
   "nbconvert_exporter": "python",
   "pygments_lexer": "ipython3",
   "version": "3.11.10"
  }
 },
 "nbformat": 4,
 "nbformat_minor": 5
}
