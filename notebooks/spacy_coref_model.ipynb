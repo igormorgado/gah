{
 "cells": [
  {
   "cell_type": "code",
   "execution_count": 1,
   "id": "0a61766d-5ab6-424d-9142-426fea17329d",
   "metadata": {},
   "outputs": [],
   "source": [
    "import warnings\n",
    "warnings.filterwarnings(\"ignore\", category=FutureWarning, module=\"spacy_transformers.layers\")\n",
    "warnings.filterwarnings(\"ignore\", category=FutureWarning, module=\"thinc.shims\")\n",
    "warnings.filterwarnings(\"ignore\", category=UserWarning, module=\"spacy.util\")\n",
    "warnings.filterwarnings(\"ignore\", category=UserWarning, module=\"spacy_transformers.layers\")\n"
   ]
  },
  {
   "cell_type": "code",
   "execution_count": 2,
   "id": "8deae10c-3ef5-4525-9567-87049f6f9012",
   "metadata": {},
   "outputs": [],
   "source": [
    "import spacy\n",
    "from spacy.tokens import Doc\n",
    "from wasabi import msg\n",
    "from spacy import displacy"
   ]
  },
  {
   "cell_type": "code",
   "execution_count": 3,
   "id": "4928c8e6-c609-4586-a817-571a359e2db4",
   "metadata": {},
   "outputs": [
    {
     "data": {
      "text/plain": [
       "<spacy_experimental.coref.span_resolver_component.SpanResolver at 0x730bb60bd5b0>"
      ]
     },
     "execution_count": 3,
     "metadata": {},
     "output_type": "execute_result"
    }
   ],
   "source": [
    "nlp = spacy.load(\"en_core_web_trf\")\n",
    "nlp_coref = spacy.load(\"en_coreference_web_trf\")\n",
    "# use replace_listeners for the coref components\n",
    "nlp_coref.replace_listeners(\"transformer\", \"coref\", [\"model.tok2vec\"])\n",
    "nlp_coref.replace_listeners(\"transformer\", \"span_resolver\", [\"model.tok2vec\"])\n",
    "\n",
    "# we won't copy over the span cleaner - this keeps the head cluster information, which we want\n",
    "nlp.add_pipe(\"merge_entities\")\n",
    "nlp.add_pipe(\"coref\", source=nlp_coref)\n",
    "nlp.add_pipe(\"span_resolver\", source=nlp_coref)"
   ]
  },
  {
   "cell_type": "code",
   "execution_count": 4,
   "id": "c7ec55c8-42bd-453a-a8fe-817b03a4fa35",
   "metadata": {},
   "outputs": [],
   "source": [
    "def resolve_references(doc: Doc) -> str:\n",
    "    \"\"\"Function for resolving references with the coref output\n",
    "    doc (Doc): The doc object processed by coref pipeline\n",
    "    RETURNS (str): The doc string with resolved references\n",
    "    \"\"\"\n",
    "    # Saves token_id: reference_text\n",
    "    token_mention_mapper = {}\n",
    "    output_string = \"\"\n",
    "    clusters = [val for key, val in doc.spans.items() if key.startswith(\"coref_cluster\")]\n",
    "\n",
    "    for cluster in clusters:\n",
    "        # Saves first span of every cluster\n",
    "        first_mention = cluster[0]\n",
    "        # Iterate though every other span in the cluster\n",
    "        for mentions in list(cluster)[1:]:\n",
    "            token_mention_mapper[mentions[0].idx] = first_mention.text\n",
    "            for token in mentions[1:]:\n",
    "                # Set empty string for every other token\n",
    "                token_mention_mapper[token.idx] = \"\"\n",
    "\n",
    "    # Iterate through every token in doc\n",
    "    for token in doc:\n",
    "        \n",
    "        if token.idx in token_mention_mapper:\n",
    "            # Check if token exists in token_mention_mapper\n",
    "            output_string += token_mention_mapper[token.idx] + token.whitespace_\n",
    "        else:\n",
    "            # Add original text\n",
    "            output_string += token.text + token.whitespace_\n",
    "\n",
    "    return output_string"
   ]
  },
  {
   "cell_type": "code",
   "execution_count": 5,
   "id": "7c4f006f-6ac9-41e4-93b0-66938c7f6bd7",
   "metadata": {},
   "outputs": [],
   "source": [
    "text = \"Philip plays the bass because he loves it\"\n",
    "text = \"Sarah enjoiys a nice cup of tea in the morning. She likes it with sugar and a drop of milk.\"\n",
    "doc = nlp_coref(text)"
   ]
  },
  {
   "cell_type": "code",
   "execution_count": 6,
   "id": "3be6da56-a495-4ee0-9d35-21e6206ec1fb",
   "metadata": {},
   "outputs": [
    {
     "name": "stdout",
     "output_type": "stream",
     "text": [
      "\u001b[38;5;4mℹ Pipeline components\u001b[0m\n",
      "0: transformer\n",
      "1: tagger\n",
      "2: parser\n",
      "3: attribute_ruler\n",
      "4: lemmatizer\n",
      "5: ner\n",
      "6: merge_entities\n",
      "7: coref\n",
      "8: span_resolver\n",
      "\u001b[38;5;4mℹ Found clusters\u001b[0m\n",
      "coref_clusters_1: [Sarah, She]\n",
      "coref_clusters_2: [a nice cup of tea, it]\n"
     ]
    }
   ],
   "source": [
    "msg.info(\"Pipeline components\")\n",
    "for i, pipe in enumerate(nlp.pipe_names):\n",
    "    print(f\"{i}: {pipe}\")\n",
    "\n",
    "msg.info(\"Found clusters\")\n",
    "for cluster in doc.spans:\n",
    "    print(f\"{cluster}: {doc.spans[cluster]}\")"
   ]
  },
  {
   "cell_type": "code",
   "execution_count": 7,
   "id": "1d1e98e7-aede-4404-9528-41c30eec938f",
   "metadata": {},
   "outputs": [
    {
     "name": "stdout",
     "output_type": "stream",
     "text": [
      "\u001b[38;5;4mℹ Document with resolved references\u001b[0m\n",
      "Sarah enjoiys a nice cup of tea in the morning. Sarah likes a nice cup of tea with sugar and a drop of milk.\n"
     ]
    }
   ],
   "source": [
    "msg.info(\"Document with resolved references\")\n",
    "print(resolve_references(doc))"
   ]
  },
  {
   "cell_type": "code",
   "execution_count": null,
   "id": "a136966f-21be-45fc-be0b-53d6ae41a814",
   "metadata": {},
   "outputs": [],
   "source": []
  },
  {
   "cell_type": "code",
   "execution_count": null,
   "id": "f3fe1740-46bb-4a44-b156-dea113f9eb5c",
   "metadata": {},
   "outputs": [],
   "source": []
  }
 ],
 "metadata": {
  "kernelspec": {
   "display_name": "Python 3 (ipykernel)",
   "language": "python",
   "name": "python3"
  },
  "language_info": {
   "codemirror_mode": {
    "name": "ipython",
    "version": 3
   },
   "file_extension": ".py",
   "mimetype": "text/x-python",
   "name": "python",
   "nbconvert_exporter": "python",
   "pygments_lexer": "ipython3",
   "version": "3.11.10"
  }
 },
 "nbformat": 4,
 "nbformat_minor": 5
}
