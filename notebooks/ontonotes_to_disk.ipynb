{
 "cells": [
  {
   "cell_type": "code",
   "execution_count": 30,
   "id": "678cc24e-87b0-4def-b1a3-923a08ad7d6c",
   "metadata": {},
   "outputs": [],
   "source": [
    "import datasets\n",
    "from pathlib import Path\n",
    "import json"
   ]
  },
  {
   "cell_type": "code",
   "execution_count": 32,
   "id": "3583d7cd-2983-42fa-8047-3b5de40a3929",
   "metadata": {},
   "outputs": [
    {
     "data": {
      "application/vnd.jupyter.widget-view+json": {
       "model_id": "f21db604740340b58e05b7b51671e3f2",
       "version_major": 2,
       "version_minor": 0
      },
      "text/plain": [
       "Generating train split:   0%|          | 0/10539 [00:00<?, ? examples/s]"
      ]
     },
     "metadata": {},
     "output_type": "display_data"
    },
    {
     "data": {
      "application/vnd.jupyter.widget-view+json": {
       "model_id": "328d3fab7cd540ba9ee35e3159a989d4",
       "version_major": 2,
       "version_minor": 0
      },
      "text/plain": [
       "Generating validation split:   0%|          | 0/1370 [00:00<?, ? examples/s]"
      ]
     },
     "metadata": {},
     "output_type": "display_data"
    },
    {
     "data": {
      "application/vnd.jupyter.widget-view+json": {
       "model_id": "0942c0b7be6b4cab9ca2def4c848c5d9",
       "version_major": 2,
       "version_minor": 0
      },
      "text/plain": [
       "Generating test split:   0%|          | 0/1200 [00:00<?, ? examples/s]"
      ]
     },
     "metadata": {},
     "output_type": "display_data"
    }
   ],
   "source": [
    "ontonotes = datasets.load_dataset(\"ontonotes/conll2012_ontonotesv5\", \"english_v12\", trust_remote_code=True)"
   ]
  },
  {
   "cell_type": "code",
   "execution_count": 35,
   "id": "3f8d0af2-45f4-40c0-8b87-a7bf10f0929f",
   "metadata": {},
   "outputs": [
    {
     "name": "stdout",
     "output_type": "stream",
     "text": [
      "arabic_v4 train 359\n",
      "arabic_v4 validation 44\n",
      "arabic_v4 test 44\n"
     ]
    },
    {
     "data": {
      "application/vnd.jupyter.widget-view+json": {
       "model_id": "64ac00623a8f4ca8a6a8348b6fc4267a",
       "version_major": 2,
       "version_minor": 0
      },
      "text/plain": [
       "Generating train split:   0%|          | 0/1391 [00:00<?, ? examples/s]"
      ]
     },
     "metadata": {},
     "output_type": "display_data"
    },
    {
     "data": {
      "application/vnd.jupyter.widget-view+json": {
       "model_id": "320d01a7addd43449ae72824ed201638",
       "version_major": 2,
       "version_minor": 0
      },
      "text/plain": [
       "Generating validation split:   0%|          | 0/172 [00:00<?, ? examples/s]"
      ]
     },
     "metadata": {},
     "output_type": "display_data"
    },
    {
     "data": {
      "application/vnd.jupyter.widget-view+json": {
       "model_id": "f23b55cd272b42568ffa1d93e3d42929",
       "version_major": 2,
       "version_minor": 0
      },
      "text/plain": [
       "Generating test split:   0%|          | 0/166 [00:00<?, ? examples/s]"
      ]
     },
     "metadata": {},
     "output_type": "display_data"
    },
    {
     "name": "stdout",
     "output_type": "stream",
     "text": [
      "chinese_v4 train 1391\n",
      "chinese_v4 validation 172\n",
      "chinese_v4 test 166\n",
      "english_v4 train 1940\n",
      "english_v4 validation 222\n",
      "english_v4 test 222\n",
      "english_v12 train 10539\n",
      "english_v12 validation 1370\n",
      "english_v12 test 1200\n"
     ]
    }
   ],
   "source": [
    "sizes = {}\n",
    "for version in [\"arabic_v4\", \"chinese_v4\", \"english_v4\", \"english_v12\"]:\n",
    "    ontonotes = datasets.load_dataset(\"ontonotes/conll2012_ontonotesv5\", version, trust_remote_code=True)\n",
    "    sizes[version] = {}\n",
    "    for split, dataset in ontonotes.items():\n",
    "        split_size = len(dataset)\n",
    "        print(version, split, split_size)\n",
    "        sizes[version][split] = split_size\n",
    "        for document in dataset:\n",
    "            document_id = document['document_id']\n",
    "            fullpath = Path(\"ontonotes_v5\") / version / split / document_id\n",
    "            filename = fullpath.name\n",
    "            dirname = fullpath.parent\n",
    "            dirname.mkdir(parents=True, exist_ok=True)\n",
    "            \n",
    "            with fullpath.open(\"w\") as file:\n",
    "                json.dump(document['sentences'], file, indent=4)\n",
    "        "
   ]
  },
  {
   "cell_type": "code",
   "execution_count": null,
   "id": "167f54bc-fca2-437e-8a2e-f3b0e269600e",
   "metadata": {},
   "outputs": [],
   "source": []
  }
 ],
 "metadata": {
  "kernelspec": {
   "display_name": "Python 3 (ipykernel)",
   "language": "python",
   "name": "python3"
  },
  "language_info": {
   "codemirror_mode": {
    "name": "ipython",
    "version": 3
   },
   "file_extension": ".py",
   "mimetype": "text/x-python",
   "name": "python",
   "nbconvert_exporter": "python",
   "pygments_lexer": "ipython3",
   "version": "3.11.10"
  }
 },
 "nbformat": 4,
 "nbformat_minor": 5
}
