{
 "cells": [
  {
   "cell_type": "code",
   "execution_count": 1,
   "id": "a681d0de-becd-4eb1-a70b-28bc34eb5ddc",
   "metadata": {},
   "outputs": [],
   "source": [
    "import warnings\n",
    "warnings.filterwarnings(\"ignore\", category=FutureWarning, module=\"huggingface_hub.file_download\")\n",
    "warnings.filterwarnings(\"ignore\", category=FutureWarning, module=\"transformers.utils.generic\")\n",
    "warnings.filterwarnings(\"ignore\", category=FutureWarning, module=\"transformers.modeling_utils\")\n",
    "import numpy as np\n",
    "from scipy.spatial.distance import cosine\n",
    "import torch\n",
    "import transformers\n",
    "from transformers import LlamaTokenizer, LlamaModel\n",
    "from gensim.models import KeyedVectors, Word2Vec\n",
    "\n",
    "from nlp import (\n",
    "    get_llama_embedding,\n",
    "    get_word2vec_embedding,\n",
    "    get_avg_embedding,\n",
    "    is_normalized,\n",
    "    normalize_rows,\n",
    ")\n",
    "from config import load_config"
   ]
  },
  {
   "cell_type": "code",
   "execution_count": 2,
   "id": "a845f9ec-5ac5-4c6a-a36d-d3d1348efddb",
   "metadata": {},
   "outputs": [],
   "source": [
    "config, secrets = load_config()"
   ]
  },
  {
   "cell_type": "code",
   "execution_count": 3,
   "id": "1cc37259-a71b-40c8-8d23-9fc0bc90abcc",
   "metadata": {},
   "outputs": [],
   "source": [
    "device = torch.device(\"cuda\" if torch.cuda.is_available() else \"cpu\")"
   ]
  },
  {
   "cell_type": "code",
   "execution_count": 4,
   "id": "577c17a3-1120-48df-94c8-3a208cac078d",
   "metadata": {},
   "outputs": [],
   "source": [
    "tokenizer = transformers.LlamaTokenizer.from_pretrained(config.transformer.model_name, token=secrets.huggingface_token, legacy=False)\n",
    "tokenizer.pad_token = tokenizer.eos_token"
   ]
  },
  {
   "cell_type": "code",
   "execution_count": 5,
   "id": "2ae0cad6-930b-4950-b60e-ce5214b4f6bc",
   "metadata": {},
   "outputs": [
    {
     "data": {
      "text/plain": [
       "'openlm-research/open_llama_3b_v2'"
      ]
     },
     "execution_count": 5,
     "metadata": {},
     "output_type": "execute_result"
    }
   ],
   "source": [
    "config.transformer.model_name"
   ]
  },
  {
   "cell_type": "code",
   "execution_count": 6,
   "id": "f2b880eb-2837-41c5-bf8d-f6b5e6f2d087",
   "metadata": {},
   "outputs": [],
   "source": [
    "model = transformers.LlamaModel.from_pretrained(\n",
    "    config.transformer.model_name,\n",
    "    torch_dtype=torch.float16,\n",
    "    device_map='auto',\n",
    "    token=secrets.huggingface_token\n",
    ")\n",
    "#model.config.pad_token_id = model.config.eos_token_id"
   ]
  },
  {
   "cell_type": "code",
   "execution_count": 8,
   "id": "7c19788b-247c-4c70-a9c3-5bbe9df14b82",
   "metadata": {},
   "outputs": [
    {
     "data": {
      "text/plain": [
       "LlamaModel(\n",
       "  (embed_tokens): Embedding(32000, 3200, padding_idx=0)\n",
       "  (layers): ModuleList(\n",
       "    (0-25): 26 x LlamaDecoderLayer(\n",
       "      (self_attn): LlamaSdpaAttention(\n",
       "        (q_proj): Linear(in_features=3200, out_features=3200, bias=False)\n",
       "        (k_proj): Linear(in_features=3200, out_features=3200, bias=False)\n",
       "        (v_proj): Linear(in_features=3200, out_features=3200, bias=False)\n",
       "        (o_proj): Linear(in_features=3200, out_features=3200, bias=False)\n",
       "        (rotary_emb): LlamaRotaryEmbedding()\n",
       "      )\n",
       "      (mlp): LlamaMLP(\n",
       "        (gate_proj): Linear(in_features=3200, out_features=8640, bias=False)\n",
       "        (up_proj): Linear(in_features=3200, out_features=8640, bias=False)\n",
       "        (down_proj): Linear(in_features=8640, out_features=3200, bias=False)\n",
       "        (act_fn): SiLU()\n",
       "      )\n",
       "      (input_layernorm): LlamaRMSNorm()\n",
       "      (post_attention_layernorm): LlamaRMSNorm()\n",
       "    )\n",
       "  )\n",
       "  (norm): LlamaRMSNorm()\n",
       ")"
      ]
     },
     "execution_count": 8,
     "metadata": {},
     "output_type": "execute_result"
    }
   ],
   "source": [
    "model"
   ]
  },
  {
   "cell_type": "code",
   "execution_count": 7,
   "id": "0aead64d-edf3-48b4-92ed-ce4bfaa002f2",
   "metadata": {},
   "outputs": [],
   "source": [
    "word2vec_model = KeyedVectors.load_word2vec_format('/home/igor/.cache/GoogleNews-vectors-negative300.bin.gz', binary=True)"
   ]
  },
  {
   "cell_type": "code",
   "execution_count": 8,
   "id": "c45eac00-c74a-4ef1-9b36-9c75212bec98",
   "metadata": {
    "scrolled": true
   },
   "outputs": [],
   "source": [
    "def build_vocabulary(words, topn = 1000):\n",
    "    # Build a vocabulary with 1000 neighbor words based on Word2Vec model.\n",
    "    unique_words = set()\n",
    "    for word in words:\n",
    "        unique_words.add(word)\n",
    "        similar_words = word2vec_model.most_similar(word, topn=topn)\n",
    "        unique_words.update(token for token, _ in similar_words)\n",
    "    unique_words = list(unique_words)\n",
    "    return unique_words"
   ]
  },
  {
   "cell_type": "code",
   "execution_count": 9,
   "id": "ffc0fe1b-54b0-4248-bde5-89aeb2d50961",
   "metadata": {},
   "outputs": [],
   "source": [
    "def word_similarity(composition, vocabulary, add_special_tokens, normalized, aggregation):\n",
    "    # Compute new embeddings based on tokenizer/model params\n",
    "    llama_embeddings = {}\n",
    "    for vocab in vocabulary:\n",
    "        emb, tkn = get_llama_embedding(\n",
    "            vocab, model, tokenizer,\n",
    "            add_special_tokens=add_special_tokens,\n",
    "            normalized=normalized,\n",
    "            aggregation=aggregation\n",
    "        )\n",
    "        llama_embeddings[vocab] = emb\n",
    "\n",
    "    # Compute the compositionality of King - man + worman = queen on llama model\n",
    "    llama_composition = llama_embeddings[composition[0]] - llama_embeddings[composition[1]] + llama_embeddings[composition[2]]\n",
    "    #print(llama_composition.shape, llama_composition)\n",
    "    \n",
    "    # Compute the similarity with llama's  composition and all vocabulary.\n",
    "    similarity = {}\n",
    "    for vocab, embedding in llama_embeddings.items():\n",
    "        similarity[vocab] = 1 - cosine(llama_composition, embedding)\n",
    "\n",
    "    # Create two lists, one with words and other with similarity to llama's compositionality.\n",
    "    itens = list(similarity.items())\n",
    "    words, similarities = zip(*itens)\n",
    "    similarities = np.array(similarities)\n",
    "\n",
    "    # Order the words from the most similar to the less simillar\n",
    "    sorted_pairs = sorted(zip(words, similarities), key=lambda pair: pair[1], reverse=True)\n",
    "    sorted_text, sorted_values = zip(*sorted_pairs)\n",
    "    \n",
    "    return sorted_text, sorted_values"
   ]
  },
  {
   "cell_type": "code",
   "execution_count": 56,
   "id": "951e53a8-6c27-429f-92ba-7994d6153098",
   "metadata": {},
   "outputs": [],
   "source": [
    "myword = \"queen\"\n",
    "mywords = [\"king\", \"man\", \"woman\", \"queen\", \"men\", \"women\", \"ceo\", myword]\n",
    "myvocab = build_vocabulary(mywords, 100)\n",
    "mycompo = [\"king\", \"man\", \"woman\"]"
   ]
  },
  {
   "cell_type": "code",
   "execution_count": 57,
   "id": "3f1f2912-1859-493b-8c3f-69a97ec6bae8",
   "metadata": {},
   "outputs": [
    {
     "name": "stdout",
     "output_type": "stream",
     "text": [
      "[True, True, 'mean', 5, 0.00512]\n",
      "[True, True, 'sum', 5, 0.01024]\n",
      "[True, False, 'mean', 5, 0.001129]\n",
      "[True, False, 'sum', 5, 0.002258]\n",
      "[False, True, 'mean', 6, -0.0092]\n",
      "[False, True, 'sum', 6, -0.0092]\n",
      "[False, False, 'mean', 6, -0.00806]\n",
      "[False, False, 'sum', 6, -0.00806]\n"
     ]
    }
   ],
   "source": [
    "results = []\n",
    "for st in [True, False]:\n",
    "    for nor in [True, False]:\n",
    "        for agg in [\"mean\", \"sum\"]:\n",
    "            text, vals = word_similarity(mycompo, myvocab, st, nor, agg)\n",
    "            emb, tkns = get_llama_embedding(myword, model, tokenizer, st, nor, agg)\n",
    "            pos = text.index(myword)+1\n",
    "            res = [st, nor, agg, pos, emb[0]]\n",
    "            print(res)\n",
    "            results.append(res)"
   ]
  },
  {
   "cell_type": "code",
   "execution_count": 58,
   "id": "9fd88278-c0ca-4ebe-9a4a-f365fe172b76",
   "metadata": {},
   "outputs": [
    {
     "name": "stdout",
     "output_type": "stream",
     "text": [
      "king 7367 0.9995\n",
      "man 599 1.0\n",
      "woman 3318 1.0\n",
      "queen 16502 0.9995\n",
      "men 1853 0.9995\n",
      "women 2022 0.9995\n",
      "ceo [ 6288 29504] 0.712\n",
      "queen 16502 0.9995\n",
      "prettydupperfuckinlicious [ 2615   590  2607 29517  1430   261   580   775] 0.4001\n"
     ]
    }
   ],
   "source": [
    "# Check how norm behaves in words with many tokens.\n",
    "# Seems, when averaging, norm get lower.\n",
    "for word in mywords + [\"prettydupperfuckinlicious\"]:\n",
    "    emb, token = get_llama_embedding(word, model, tokenizer, add_special_tokens=False, normalized=True, aggregation=\"mean\")\n",
    "    print(word, token, np.linalg.norm(emb, axis=-1))"
   ]
  },
  {
   "cell_type": "code",
   "execution_count": null,
   "id": "a70496c4-63b5-42ec-8484-6da3da834fba",
   "metadata": {},
   "outputs": [],
   "source": [
    "list(zip(text[:10], vals[:10]))"
   ]
  }
 ],
 "metadata": {
  "kernelspec": {
   "display_name": "Python 3 (ipykernel)",
   "language": "python",
   "name": "python3"
  },
  "language_info": {
   "codemirror_mode": {
    "name": "ipython",
    "version": 3
   },
   "file_extension": ".py",
   "mimetype": "text/x-python",
   "name": "python",
   "nbconvert_exporter": "python",
   "pygments_lexer": "ipython3",
   "version": "3.11.10"
  }
 },
 "nbformat": 4,
 "nbformat_minor": 5
}
