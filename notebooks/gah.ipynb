{
 "cells": [
  {
   "cell_type": "code",
   "execution_count": 1,
   "id": "f913b93d-7df5-479c-9cbf-10a822ffb50b",
   "metadata": {},
   "outputs": [],
   "source": [
    "import spacy\n",
    "from pathlib import Path\n",
    "import pandas as pd\n",
    "import numpy as np\n",
    "from spacy import displacy\n",
    "from functools import reduce"
   ]
  },
  {
   "cell_type": "markdown",
   "id": "920411f6-872f-44b9-834d-f51f365b197b",
   "metadata": {},
   "source": [
    "# Loading Writing Prompts Corpus"
   ]
  },
  {
   "cell_type": "code",
   "execution_count": 2,
   "id": "f0ddbb68-2911-44c5-b8ec-6bbd44bdf539",
   "metadata": {},
   "outputs": [],
   "source": [
    "wp_path = \"corpora/writingPrompts/\"\n",
    "wp_data = [\"train\", \"test\", \"valid\"]\n",
    "\n",
    "wp_prompts = []\n",
    "wp_stories = []\n",
    "wp_tags = []\n",
    "wp_masks = []\n",
    "for name in wp_data: \n",
    "    wp_source_path = Path(wp_path) / f\"{name}.wp_source\"\n",
    "    wp_target_path = Path(wp_path) / f\"{name}.wp_target\"\n",
    "\n",
    "    with open(wp_source_path, 'r') as fd:\n",
    "        wp_source = fd.readlines()\n",
    "\n",
    "    for line in wp_source:\n",
    "        wp_tags.append(line[:6])\n",
    "        wp_prompts.append(line[7:])\n",
    "    \n",
    "    with open(wp_target_path, 'r') as fd:\n",
    "        wp_target = fd.readlines()\n",
    "\n",
    "    wp_stories.extend(wp_target)\n",
    "    \n",
    "    wp_masks.extend([name] * len(wp_source))\n",
    "\n",
    "wp_masks_np = np.array(wp_masks)"
   ]
  },
  {
   "cell_type": "code",
   "execution_count": 3,
   "id": "783bcbf4-1921-4458-b8cd-af1420adfb17",
   "metadata": {},
   "outputs": [],
   "source": [
    "# Later try to use spacy features for that.\n",
    "# Undo the funky tokenization\n",
    "replaces = ((' . ', '. '),\n",
    "            (' .', '.'),\n",
    "            (' ; ', '; '),\n",
    "            (' : ', ': '),\n",
    "            (' ! ', '! '),\n",
    "            (' !', '!'),\n",
    "            (' ? ', '? '),\n",
    "            (' ?', '?'),\n",
    "            (' *', '*'),\n",
    "            (' , ', ', '),\n",
    "            (' ’ ', '’'),\n",
    "            (\" 's\", \"'s\"),\n",
    "            (\" n't\", \"n't\"),\n",
    "            (\" N'T\", \"N'T\"),\n",
    "            (\" 've\", \"'ve\"),\n",
    "            (\" 'd\", \"'d\"),\n",
    "            (\"`` \", \"``\"),\n",
    "            (\" ''\", \"''\"),\n",
    "            (\"“ \", \"“\"),\n",
    "            (\" ”\", \"”\"),\n",
    "            (\" ’re\", \"’re\"),\n",
    "            (\" 're\", \"'re\"),\n",
    "            (\" ’m\", \"’m\"),            \n",
    "            (\" 'm\", \"'m\"),\n",
    "            ('<newline> ', '\\n'),\n",
    "            (' <newline>', '\\n'),\n",
    "            ('<newline>', '\\n'),            \n",
    "            (' \\n', '\\n'),\n",
    "           )\n",
    "\n",
    "wp_stories = [reduce(lambda a, kv: a.replace(*kv), replaces, story) for story in wp_stories]"
   ]
  },
  {
   "cell_type": "code",
   "execution_count": 4,
   "id": "a92a4090-a516-4378-aaf5-ec8a54126d68",
   "metadata": {},
   "outputs": [],
   "source": [
    "story_len = [len(story) for story in wp_stories]"
   ]
  },
  {
   "cell_type": "code",
   "execution_count": 5,
   "id": "0fb2710b-369a-4939-a8b8-883e5d2f08a1",
   "metadata": {},
   "outputs": [],
   "source": [
    "max_pos = story_len.index(max(story_len))\n",
    "min_pos = story_len.index(min(story_len))\n",
    "pick = story_len.index(800)"
   ]
  },
  {
   "cell_type": "code",
   "execution_count": 6,
   "id": "4d268f52-fd0b-4c80-b578-d49366916c7e",
   "metadata": {},
   "outputs": [
    {
     "name": "stdout",
     "output_type": "stream",
     "text": [
      "Samanta was in a dark coat: long, silky, and tight on womanly hips. My doorway was too drab for such a work of art. I was struck with want for a coat of paint. I swung my chair away.\n",
      "\n",
      "“Fancy that, huh? I found you.” That ghost sang to my back. I didn’t turn.\n",
      "\n",
      "“Lucky as usual. I told you, I don’t do that work nowadays.” It wasn’t fiction. I’d hung up that old coat, that old man. My guns, my cigars, that was history. Old gangs, young thugs, any and all could run this town. That optimistic young P.I. was kaput. I told Samantha so.\n",
      "\n",
      "“What a buffoon.” Sam said, ruby lips all wrong in a smirk. “You can’t quit. Not any of us can quit.”\n",
      "\n",
      "I didn’t say a word. Samantha slid away, but not without dropping a gift: familiar manila, that slanting, taunting handwriting in all black.*Do what you must.*\n",
      "\n",
      "\n",
      "\n"
     ]
    }
   ],
   "source": [
    "print(wp_stories[pick])"
   ]
  },
  {
   "cell_type": "code",
   "execution_count": 7,
   "id": "3f2cebdf-fddb-4c09-9e49-1c20a352f833",
   "metadata": {},
   "outputs": [],
   "source": [
    "nlp = spacy.load(\"en_core_web_trf\")"
   ]
  },
  {
   "cell_type": "code",
   "execution_count": 8,
   "id": "7ca1d9d4-cfa1-4837-bfc2-96459063bda5",
   "metadata": {},
   "outputs": [
    {
     "name": "stdout",
     "output_type": "stream",
     "text": [
      "\u001b[1m\n",
      "============================= Pipeline Overview =============================\u001b[0m\n",
      "\n",
      "#   Component         Assigns               Requires   Scores             Retokenizes\n",
      "-   ---------------   -------------------   --------   ----------------   -----------\n",
      "0   transformer       doc._.trf_data                                      False      \n",
      "                                                                                     \n",
      "1   tagger            token.tag                        tag_acc            False      \n",
      "                                                                                     \n",
      "2   parser            token.dep                        dep_uas            False      \n",
      "                      token.head                       dep_las                       \n",
      "                      token.is_sent_start              dep_las_per_type              \n",
      "                      doc.sents                        sents_p                       \n",
      "                                                       sents_r                       \n",
      "                                                       sents_f                       \n",
      "                                                                                     \n",
      "3   attribute_ruler                                                       False      \n",
      "                                                                                     \n",
      "4   lemmatizer        token.lemma                      lemma_acc          False      \n",
      "                                                                                     \n",
      "5   ner               doc.ents                         ents_f             False      \n",
      "                      token.ent_iob                    ents_p                        \n",
      "                      token.ent_type                   ents_r                        \n",
      "                                                       ents_per_type                 \n",
      "\n",
      "\u001b[38;5;2m✔ No problems found.\u001b[0m\n"
     ]
    }
   ],
   "source": [
    "analysis = nlp.analyze_pipes(pretty=True)"
   ]
  },
  {
   "cell_type": "code",
   "execution_count": 9,
   "id": "44152956-4742-4778-8910-b0de6b7f930a",
   "metadata": {},
   "outputs": [],
   "source": [
    "# Se precisar de um Tokenizer customizado...\n",
    "#from spacy.attrs import ORTH, NORM\n",
    "#from spacy.tokenizer import Tokenizer\n",
    "#tokenizer = Tokenizer(nlp.vocab)\n",
    "#case = [{ORTH: \"do\"}, {ORTH: \"n't\", NORM: \"not\"}]\n",
    "#tokenizer.add_special_case(\"don't\", case)"
   ]
  },
  {
   "cell_type": "code",
   "execution_count": 10,
   "id": "b1cf06fe-7f42-4128-92e2-e2271c3ee918",
   "metadata": {},
   "outputs": [],
   "source": [
    "text = wp_stories[pick]"
   ]
  },
  {
   "cell_type": "code",
   "execution_count": 11,
   "id": "ae41b56a-29cd-4875-9810-5d6f6b0fabef",
   "metadata": {},
   "outputs": [],
   "source": [
    "doc = nlp(text)"
   ]
  },
  {
   "cell_type": "code",
   "execution_count": 12,
   "id": "ab1c3f6d-6b99-41ba-a837-49e5dc8e2e5c",
   "metadata": {},
   "outputs": [],
   "source": [
    "# for sent in doc.sents:\n",
    "#     for token in sent:\n",
    "#         print(f\"{token.i} {token}\", end=\" \")\n",
    "#     print()"
   ]
  },
  {
   "cell_type": "code",
   "execution_count": 13,
   "id": "b142db58-4411-446e-be5f-77f043b9567a",
   "metadata": {},
   "outputs": [],
   "source": [
    "sents = list(doc.sents)\n",
    "chunks = list(doc.noun_chunks)"
   ]
  },
  {
   "cell_type": "code",
   "execution_count": 14,
   "id": "46c370d6-d0c1-42c9-88e7-43022df35a8e",
   "metadata": {},
   "outputs": [
    {
     "name": "stdout",
     "output_type": "stream",
     "text": [
      "0 Samanta Samanta PROPN NNP nsubj\n",
      "1 was be AUX VBD ROOT\n",
      "2 in in ADP IN prep\n",
      "3 a a DET DT det\n",
      "4 dark dark ADJ JJ amod\n",
      "5 coat coat NOUN NN pobj\n",
      "6 : : PUNCT : punct\n",
      "7 long long ADJ JJ acomp\n",
      "8 , , PUNCT , punct\n",
      "9 silky silky ADJ JJ conj\n",
      "10 , , PUNCT , punct\n",
      "11 and and CCONJ CC cc\n",
      "12 tight tight ADJ JJ conj\n",
      "13 on on ADP IN prep\n",
      "14 womanly womanly ADJ JJ amod\n",
      "15 hips hip NOUN NNS pobj\n",
      "16 . . PUNCT . punct\n"
     ]
    }
   ],
   "source": [
    "for token in sents[0]:\n",
    "    print(token.i, token, token.lemma_, token.pos_, token.tag_, token.dep_)"
   ]
  },
  {
   "cell_type": "code",
   "execution_count": 15,
   "id": "ca53d0f3-2d1d-4ed8-bc33-d8cbbbf28ec1",
   "metadata": {},
   "outputs": [
    {
     "name": "stdout",
     "output_type": "stream",
     "text": [
      "Samanta was in a dark coat: long, silky, and tight on womanly hips. My doorway was too drab for such a work of art. I was struck with want for a coat of paint. I swung my chair away.\n",
      "\n",
      "“Fancy that, huh? I found you.” That ghost sang to my back. I didn’t turn.\n",
      "\n",
      "“Lucky as usual. I told you, I don’t do that work nowadays.” It wasn’t fiction. I’d hung up that old coat, that old man. My guns, my cigars, that was history. Old gangs, young thugs, any and all could run this town. That optimistic young P.I. was kaput. I told Samantha so.\n",
      "\n",
      "“What a buffoon.” Sam said, ruby lips all wrong in a smirk. “You can’t quit. Not any of us can quit.”\n",
      "\n",
      "I didn’t say a word. Samantha slid away, but not without dropping a gift: familiar manila, that slanting, taunting handwriting in all black.*Do what you must.*\n",
      "\n",
      "\n",
      "\n"
     ]
    }
   ],
   "source": [
    "print(doc.text)"
   ]
  },
  {
   "cell_type": "code",
   "execution_count": 16,
   "id": "df56456a-b3c4-4824-a329-48234f3a4e7d",
   "metadata": {},
   "outputs": [],
   "source": [
    "options = {\"compact\": True, \"bg\": \"#09a3d5\",\n",
    "           \"color\": \"white\", \"font\": \"Source Sans Pro\"}\n",
    "#displacy.render(sents, style=\"dep\", options=options, jupyter=True)"
   ]
  },
  {
   "cell_type": "code",
   "execution_count": 17,
   "id": "7dbdaaca-7efb-47e0-90dc-f3439a3bdd94",
   "metadata": {},
   "outputs": [
    {
     "name": "stdout",
     "output_type": "stream",
     "text": [
      "Text            Root Text  Root Dep   Root Head Text  Children of head\n",
      "Samanta         Samanta    nsubj      was             [Samanta, in, :, long, .]\n",
      "a dark coat     coat       pobj       in              [coat]\n",
      "womanly hips    hips       pobj       on              [hips]\n",
      "My doorway      doorway    nsubj      was             [doorway, drab, .]\n"
     ]
    }
   ],
   "source": [
    "fmt = \"{:15} {:10} {:10} {:15} {}\"\n",
    "print(fmt.format(\"Text\", \"Root Text\", \"Root Dep\", \"Root Head Text\", \"Children of head\"))\n",
    "for chunk in chunks[:4]:\n",
    "    print(fmt.format(chunk.text, chunk.root.text, chunk.root.dep_, chunk.root.head.text, [child for child in chunk.root.head.children] ))"
   ]
  },
  {
   "cell_type": "code",
   "execution_count": 20,
   "id": "fcf7798e-3891-4247-97d5-245388d5e363",
   "metadata": {},
   "outputs": [],
   "source": [
    "trfdata = doc._.trf_data"
   ]
  },
  {
   "cell_type": "code",
   "execution_count": 27,
   "id": "6ff4113d-11bc-4b6d-88f4-41050008330e",
   "metadata": {},
   "outputs": [
    {
     "data": {
      "text/plain": [
       "(2, 150, 768)"
      ]
     },
     "execution_count": 27,
     "metadata": {},
     "output_type": "execute_result"
    }
   ],
   "source": [
    "trfdata.tensors[0].shape"
   ]
  },
  {
   "cell_type": "code",
   "execution_count": 28,
   "id": "a66d8eac-035f-4763-8e2f-adf3d8ce64e4",
   "metadata": {},
   "outputs": [
    {
     "data": {
      "text/plain": [
       "(2, 768)"
      ]
     },
     "execution_count": 28,
     "metadata": {},
     "output_type": "execute_result"
    }
   ],
   "source": [
    "trfdata.tensors[1].shape"
   ]
  },
  {
   "cell_type": "code",
   "execution_count": 30,
   "id": "33696d15-9e42-4b20-9251-1d565accda47",
   "metadata": {},
   "outputs": [
    {
     "name": "stdout",
     "output_type": "stream",
     "text": [
      "['<s>', 'Sam', 'anta', 'Ġwas', 'Ġin', 'Ġa', 'Ġdark', 'Ġcoat', ':', 'Ġlong']\n",
      "['Ġyoung', 'Ġthugs', ',', 'Ġany', 'Ġand', 'Ġall', 'Ġcould', 'Ġrun', 'Ġthis', '</s>']\n",
      "['<s>', 'hung', 'Ġup', 'Ġthat', 'Ġold', 'Ġcoat', ',', 'Ġthat', 'Ġold', 'Ġman']\n"
     ]
    }
   ],
   "source": [
    "print(trfdata.tokens['input_texts'][0][:10])\n",
    "print(trfdata.tokens['input_texts'][0][-10:])\n",
    "print(trfdata.tokens['input_texts'][1][:10])"
   ]
  },
  {
   "cell_type": "code",
   "execution_count": 19,
   "id": "79bf8bc3-de07-434e-bf70-a302a4741d79",
   "metadata": {},
   "outputs": [
    {
     "data": {
      "text/plain": [
       "Samanta was in a dark coat: long, silky"
      ]
     },
     "execution_count": 19,
     "metadata": {},
     "output_type": "execute_result"
    }
   ],
   "source": [
    "doc[:10]"
   ]
  },
  {
   "cell_type": "code",
   "execution_count": 40,
   "id": "fe1c2423-e1ca-4da1-90c9-afbb0fe0637e",
   "metadata": {},
   "outputs": [
    {
     "data": {
      "text/plain": [
       "tensor(21169)"
      ]
     },
     "execution_count": 40,
     "metadata": {},
     "output_type": "execute_result"
    }
   ],
   "source": [
    "trfdata.tokens['input_ids'][0][1]"
   ]
  },
  {
   "cell_type": "code",
   "execution_count": 137,
   "id": "7bf9f79f-70d5-4ceb-921b-f568e1a524af",
   "metadata": {},
   "outputs": [],
   "source": [
    "# Show all entries that are like the given id\n",
    "given_id = 14\n",
    "token_locations = np.where(trfdata.wordpieces.input_ids[0] == given_id)[0]"
   ]
  },
  {
   "cell_type": "code",
   "execution_count": 138,
   "id": "6de0cc83-5df3-4c9c-ac1d-44cb6a731c20",
   "metadata": {},
   "outputs": [
    {
     "data": {
      "text/plain": [
       "array(['Ġthat', 'Ġthat', 'Ġthat', 'Ġthat', 'Ġthat'], dtype='<U9')"
      ]
     },
     "execution_count": 138,
     "metadata": {},
     "output_type": "execute_result"
    }
   ],
   "source": [
    "tokens_on_doc = np.array(trfdata.wordpieces.strings[0])[token_locations]\n",
    "tokens_on_doc"
   ]
  },
  {
   "cell_type": "code",
   "execution_count": 142,
   "id": "f271fc0a-6fe8-4e3a-8728-00a62801d713",
   "metadata": {},
   "outputs": [
    {
     "data": {
      "text/plain": [
       "150"
      ]
     },
     "execution_count": 142,
     "metadata": {},
     "output_type": "execute_result"
    }
   ],
   "source": [
    "len(trfdata.tokens['input_texts'][0])"
   ]
  },
  {
   "cell_type": "code",
   "execution_count": 83,
   "id": "2b2b09ce-3209-4e4f-a063-45dec612bb9b",
   "metadata": {},
   "outputs": [
    {
     "name": "stdout",
     "output_type": "stream",
     "text": [
      "Ċ\n"
     ]
    }
   ],
   "source": [
    "print(tokens_on_doc[0])"
   ]
  },
  {
   "cell_type": "code",
   "execution_count": 145,
   "id": "63fcf367-8b90-4098-a4c7-b5e578fe6836",
   "metadata": {
    "scrolled": true
   },
   "outputs": [
    {
     "data": {
      "text/plain": [
       "True"
      ]
     },
     "execution_count": 145,
     "metadata": {},
     "output_type": "execute_result"
    }
   ],
   "source": [
    "np.all(np.array(trfdata.wordpieces.strings) == np.array(trfdata.tokens['input_texts']))"
   ]
  },
  {
   "cell_type": "code",
   "execution_count": 147,
   "id": "1e28b727-520c-4af7-99b6-cff61f1f11f1",
   "metadata": {},
   "outputs": [
    {
     "data": {
      "text/plain": [
       "True"
      ]
     },
     "execution_count": 147,
     "metadata": {},
     "output_type": "execute_result"
    }
   ],
   "source": [
    "np.all(trfdata.align.dataXd == trfdata.align.data[:,0])"
   ]
  },
  {
   "cell_type": "code",
   "execution_count": 160,
   "id": "bba4b6ad-f556-4c63-8e40-1216f55e421b",
   "metadata": {},
   "outputs": [
    {
     "name": "stdout",
     "output_type": "stream",
     "text": [
      "Samanta was was in a dark coat : long , silky, , and tight on womanly hips hips . My doorway was too drab for for such a work of art . I was struck with want for a coat of paint . I swung my chair away . \n",
      "\n",
      "“ “Fancy Fancy that that , huh ? I found you . ” That That ghost sang to my back . I did n’t turn.\n",
      "\n",
      " turn . \n",
      "\n",
      "“ “Lucky Lucky as as usual usual . I told you , I don’t do that n’t do that work nowadays .” ” It wasn’t fiction. n’t fiction . I’d hung I’d ’d hung hung up up that that old old coat coat, , that that old old man man. . My My guns My guns guns, , my my cigars cigars, , that that was was history history. . Old Old gangs said, gangs, , ruby , young ruby lips young thugs lips all thugs, all , wrong any in and all could run a all could run smirk could . run “ this You ca town. ca . n’t quit That quit. optimistic . young Not P.I. any was of kaput us can . can quit I quit told Samantha so. . Samantha ” so \n",
      "\n",
      " . I \n",
      "\n",
      " did “What n’t say What say a buffoon.” a buffoon word . . Samantha slid away , but not without dropping a gift : familiar manila manila , that slanting slanting , taunting taunting handwriting in all black.*Do what black.*Do what you must . *\n",
      "\n",
      "\n",
      " "
     ]
    }
   ],
   "source": [
    "aligns = trfdata.align.dataXd\n",
    "lengths = trfdata.align.lengths\n",
    "for pos,length in zip(aligns,lengths):\n",
    "    print(doc[pos-1:pos+length-1], end=\" \")"
   ]
  },
  {
   "cell_type": "code",
   "execution_count": 161,
   "id": "bde71143-626f-4c13-877f-d0c5defa3eed",
   "metadata": {},
   "outputs": [
    {
     "data": {
      "text/plain": [
       "'Samanta was in a dark coat: long, silky, and tight on womanly hips. My doorway was too drab for such a work of art. I was struck with want for a coat of paint. I swung my chair away.\\n\\n“Fancy that, huh? I found you.” That ghost sang to my back. I didn’t turn.\\n\\n“Lucky as usual. I told you, I don’t do that work nowadays.” It wasn’t fiction. I’d hung up that old coat, that old man. My guns, my cigars, that was history. Old gangs, young thugs, any and all could run this town. That optimistic young P.I. was kaput. I told Samantha so.\\n\\n“What a buffoon.” Sam said, ruby lips all wrong in a smirk. “You can’t quit. Not any of us can quit.”\\n\\nI didn’t say a word. Samantha slid away, but not without dropping a gift: familiar manila, that slanting, taunting handwriting in all black.*Do what you must.*\\n\\n\\n'"
      ]
     },
     "execution_count": 161,
     "metadata": {},
     "output_type": "execute_result"
    }
   ],
   "source": [
    "doc.text"
   ]
  },
  {
   "cell_type": "code",
   "execution_count": 151,
   "id": "4fa7b7f4-1732-4d73-b3d9-744033c5fe64",
   "metadata": {},
   "outputs": [
    {
     "data": {
      "text/plain": [
       "(2, 150, 768)"
      ]
     },
     "execution_count": 151,
     "metadata": {},
     "output_type": "execute_result"
    }
   ],
   "source": [
    "trfdata.tensors[0].shape"
   ]
  },
  {
   "cell_type": "code",
   "execution_count": 166,
   "id": "eed6e60c-df2f-4b2b-aa9b-956b6b324831",
   "metadata": {},
   "outputs": [
    {
     "data": {
      "text/plain": [
       "True"
      ]
     },
     "execution_count": 166,
     "metadata": {},
     "output_type": "execute_result"
    }
   ],
   "source": [
    "np.all(trfdata.model_output['last_hidden_state'] == trfdata.tensors[0])"
   ]
  },
  {
   "cell_type": "code",
   "execution_count": 168,
   "id": "ab631364-23d8-4401-8422-f557c7ab6048",
   "metadata": {},
   "outputs": [
    {
     "data": {
      "text/plain": [
       "(2, 150)"
      ]
     },
     "execution_count": 168,
     "metadata": {},
     "output_type": "execute_result"
    }
   ],
   "source": [
    "np.array(trfdata.wordpieces.strings).shape"
   ]
  },
  {
   "cell_type": "code",
   "execution_count": 169,
   "id": "03630da5-6f05-4146-9bb3-0594c3d618f1",
   "metadata": {},
   "outputs": [
    {
     "data": {
      "text/plain": [
       "(2, 150, 768)"
      ]
     },
     "execution_count": 169,
     "metadata": {},
     "output_type": "execute_result"
    }
   ],
   "source": [
    "trfdata.tensors[0].shape"
   ]
  },
  {
   "cell_type": "code",
   "execution_count": 26,
   "id": "d5cce5b5-1d22-46d5-83e5-658729d29fa0",
   "metadata": {},
   "outputs": [
    {
     "data": {
      "text/plain": [
       "the chair"
      ]
     },
     "execution_count": 26,
     "metadata": {},
     "output_type": "execute_result"
    }
   ],
   "source": [
    "doc[sp.start:sp.end]"
   ]
  },
  {
   "cell_type": "code",
   "execution_count": 27,
   "id": "2ff6018f-a964-4ff8-973a-4d66023fe3ff",
   "metadata": {},
   "outputs": [
    {
     "data": {
      "text/plain": [
       "spacy.tokens.span.Span"
      ]
     },
     "execution_count": 27,
     "metadata": {},
     "output_type": "execute_result"
    }
   ],
   "source": [
    "type(sents[0])"
   ]
  },
  {
   "cell_type": "code",
   "execution_count": 28,
   "id": "98f282a0-c333-4a86-a459-570297a6593b",
   "metadata": {},
   "outputs": [
    {
     "name": "stdout",
     "output_type": "stream",
     "text": [
      "14 16 17 31\n",
      "14 22 24 31\n",
      "14 25 27 31\n",
      "14 28 29 31\n",
      "Four of them were mounted a foot below ceiling height, all screens showed employees working.\n",
      "[them, ceiling height, all screens, employees]\n"
     ]
    }
   ],
   "source": [
    "# Extract chunks from the ith-sentence\n",
    "ith = 1\n",
    "sentence = sents[ith]\n",
    "chunksents = []\n",
    "for chunk in chunks:\n",
    "    if chunk.start < sentence.start:\n",
    "        continue\n",
    "    if chunk.end > sentence.end:\n",
    "        break\n",
    "    else:\n",
    "        print(sentence.start, chunk.start, chunk.end, sentence.end)\n",
    "        chunksents.append(chunk)\n",
    "\n",
    "print(sentence)\n",
    "print(chunksents)"
   ]
  },
  {
   "cell_type": "code",
   "execution_count": 30,
   "id": "197c7580-6f0f-4734-82c3-d159d58cc231",
   "metadata": {},
   "outputs": [
    {
     "data": {
      "text/plain": [
       "He sat back in the chair, looking at the monitors behind me."
      ]
     },
     "execution_count": 30,
     "metadata": {},
     "output_type": "execute_result"
    }
   ],
   "source": [
    "sents[0]"
   ]
  },
  {
   "cell_type": "code",
   "execution_count": 31,
   "id": "5cbda198-e833-49d5-b35c-bf09d85200ac",
   "metadata": {},
   "outputs": [
    {
     "data": {
      "text/plain": [
       "Four of them were mounted a foot below ceiling height, all screens showed employees working."
      ]
     },
     "execution_count": 31,
     "metadata": {},
     "output_type": "execute_result"
    }
   ],
   "source": [
    "sents[1]"
   ]
  },
  {
   "cell_type": "code",
   "execution_count": 32,
   "id": "4a70ac12-dcb4-47cf-859f-fb8892d98c7a",
   "metadata": {},
   "outputs": [
    {
     "name": "stdout",
     "output_type": "stream",
     "text": [
      "Four       nsubjpass\n",
      "of         prep\n",
      "them       pobj\n",
      "were       auxpass\n",
      "mounted    ccomp\n",
      "a          det\n",
      "foot       npadvmod\n",
      "below      prep\n",
      "ceiling    compound\n",
      "height     pobj\n",
      ",          punct\n",
      "all        det\n",
      "screens    nsubj\n",
      "showed     ROOT\n",
      "employees  nsubj\n",
      "working    ccomp\n",
      ".          punct\n"
     ]
    }
   ],
   "source": [
    "fmt = \"{:10} {}\"\n",
    "for token in sents[1]:\n",
    "    print(fmt.format(token.text, token.dep_))"
   ]
  },
  {
   "cell_type": "code",
   "execution_count": null,
   "id": "d58b1a40-5390-48e8-ba70-d59687285b5d",
   "metadata": {},
   "outputs": [],
   "source": []
  },
  {
   "cell_type": "code",
   "execution_count": 33,
   "id": "2f924193-25e5-4539-8cfc-d07073ae4aad",
   "metadata": {},
   "outputs": [
    {
     "name": "stdout",
     "output_type": "stream",
     "text": [
      ".\n",
      ".\n",
      ".\n",
      "*\n",
      "*\n",
      ".\n",
      "*\n",
      ".\n",
      "''\n",
      ".\n",
      ".\n",
      "''\n",
      "''\n",
      ".\n",
      ".\n",
      "''\n",
      "*\n",
      ".\n",
      ".\n",
      ".\n",
      ".\n",
      ".\n",
      ".\n",
      "!\n",
      "!\n",
      "''\n",
      ".\n",
      "''\n",
      ")\n",
      ".\n",
      "''\n",
      ".\n",
      ".\n",
      ".\n",
      ".\n",
      "''\n",
      ".\n",
      "''\n",
      ".\n",
      "''\n",
      "*\n",
      "''\n",
      ".\n"
     ]
    }
   ],
   "source": [
    "for token in doc:\n",
    "    if (token.i+1) < len(doc) and doc[token.i + 1].is_sent_start:\n",
    "        print(token)"
   ]
  }
 ],
 "metadata": {
  "kernelspec": {
   "display_name": "Python 3 (ipykernel)",
   "language": "python",
   "name": "python3"
  },
  "language_info": {
   "codemirror_mode": {
    "name": "ipython",
    "version": 3
   },
   "file_extension": ".py",
   "mimetype": "text/x-python",
   "name": "python",
   "nbconvert_exporter": "python",
   "pygments_lexer": "ipython3",
   "version": "3.11.10"
  }
 },
 "nbformat": 4,
 "nbformat_minor": 5
}
