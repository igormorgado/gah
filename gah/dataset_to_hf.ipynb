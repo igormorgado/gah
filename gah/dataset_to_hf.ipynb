{
 "cells": [
  {
   "cell_type": "markdown",
   "id": "a79cb637-9ef1-4e9e-8410-572e4fa3b57d",
   "metadata": {},
   "source": [
    "# ROCStories to Preprocessing\n",
    "\n",
    "This notebook, preprocess the ROCStories dataset and send to HuggingFace Hub as a Dataset.\n",
    "\n",
    "We take a few changes.\n",
    "\n",
    "1. Column names are renamed to match in each split, for example in `test` we have originally `InputSentenceX`, it was renamed do `sentenceX` to match the `train` split.\n",
    "\n",
    "2. Columns missing in different splits were add to the other split. For example `train` split contains `storytitle` column. This column as added in `test` and `validation` splits, but it's content is empty. \n",
    "\n",
    "3. There was three columns in `test`/`validation` splits. `RandomFifthSentenceQuiz[1|2]` and `AnswerRightEnding`. The firs ones where renamed to `sentence5` if they are the correct answer (based on the `AnserRightEnding` and the other was renamed to `sentenceE` (Error) if its not the right answer.\n",
    "\n",
    "4. The test set of 2018 dataset do not contains the column `AnswerRightEnding`, therefore, for sake of completeness we took the first random sentence as the correct one and the second as the wrong one.\n",
    "\n",
    "\n",
    "Most of these changes were taken to avoid a limitation in DatasetDicts in HuggingFace, since they all need to have the same columns.\n",
    "\n",
    "Regarding the ROCStories these are the original papers\n",
    "\n",
    "\"Tackling The Story Ending Biases in The Story Cloze Test\". Rishi Sharma, James Allen, Omid Bakhshandeh, Nasrin Mostafazadeh. In Proceedings of the 2018 Conference of the Association for Computational Linguistics (ACL), 2018\n",
    "\n",
    "\"A Corpus and Cloze Evaluation for Deeper Understanding of Commonsense Stories\". Nasrin Mostafazadeh, Nathanael Chambers, Xiaodong He, Devi Parikh, Dhruv Batra, Lucy Vanderwende, Pushmeet Kohli and James Allen. In Proceedings of the 2016 Conference of the North American Chapter of the Association for Computational Linguistics: Human Language Technologies (NAACL HLT), 2016"
   ]
  },
  {
   "cell_type": "code",
   "execution_count": 1,
   "id": "972db1c4-4832-4b8f-b33a-273ebc35a34f",
   "metadata": {},
   "outputs": [],
   "source": [
    "import datasets\n",
    "import pandas as pd\n",
    "from pathlib import Path"
   ]
  },
  {
   "cell_type": "code",
   "execution_count": 2,
   "id": "3cb30e6a-d957-493e-bf14-aa20966f8606",
   "metadata": {},
   "outputs": [],
   "source": [
    "rocstories_files = {\n",
    "    \"2016\": {\n",
    "        \"train\":      \"ROCStories_spring2016 - ROCStories_spring2016.csv\",\n",
    "        \"test\":       \"cloze_test_test__spring2016 - cloze_test_ALL_test.csv\",\n",
    "        \"validation\": \"cloze_test_val__spring2016 - cloze_test_ALL_val.csv\"\n",
    "    },\n",
    "    \"2018\": {\n",
    "        \"train\":      \"ROCStories_winter2017 - ROCStories_winter2017.csv\",\n",
    "        \"test\":       \"cloze_test_test__winter2018-cloze_test_ALL_test.csv\",\n",
    "        \"validation\": \"cloze_test_val__winter2018-cloze_test_ALL_val.csv\"\n",
    "    }\n",
    "}"
   ]
  },
  {
   "cell_type": "code",
   "execution_count": 3,
   "id": "81b8c346-75b6-4946-9d84-073250e9f80c",
   "metadata": {},
   "outputs": [],
   "source": [
    "corpora_base_path = Path(\"../corpora/\")\n",
    "rocstories_base_path = corpora_base_path / \"ROCStories\""
   ]
  },
  {
   "cell_type": "code",
   "execution_count": 4,
   "id": "49bba5ae-e010-404a-815b-8bc8b6a4ca0e",
   "metadata": {},
   "outputs": [],
   "source": [
    "dfs = {}\n",
    "for year, year_splits  in rocstories_files.items():\n",
    "    dfs[year] = {}\n",
    "    for split, filename in year_splits.items():\n",
    "        dfs[year][split] = pd.read_csv(rocstories_base_path / f\"{filename}\")"
   ]
  },
  {
   "cell_type": "code",
   "execution_count": 5,
   "id": "b64b4b22-8632-4923-8c9e-0fe9191f42de",
   "metadata": {},
   "outputs": [],
   "source": [
    "def add_answers(sample):\n",
    "    right_ans = sample['AnswerRightEnding']\n",
    "    if right_ans == 1:\n",
    "        sample['sentence5'] = sample['RandomFifthSentenceQuiz1']\n",
    "        sample['sentenceE'] = sample['RandomFifthSentenceQuiz2']\n",
    "    else:\n",
    "        sample['sentence5'] = sample['RandomFifthSentenceQuiz2']\n",
    "        sample['sentenceE'] = sample['RandomFifthSentenceQuiz1']   \n",
    "\n",
    "    return sample"
   ]
  },
  {
   "cell_type": "code",
   "execution_count": 6,
   "id": "120f3369-48f8-4aeb-93dd-0d79370aa3c9",
   "metadata": {},
   "outputs": [],
   "source": [
    "dfs['2016']['test'] = dfs['2016']['test'].apply(add_answers, axis=1)\n",
    "dfs['2016']['validation'] = dfs['2016']['validation'].apply(add_answers, axis=1)\n",
    "dfs['2018']['validation'] = dfs['2018']['validation'].apply(add_answers, axis=1)\n",
    "# By lack of a label in 2018 Test dataset we are assuming that answer 1\n",
    "# is always correct and answer 2 is always wrong.\n",
    "dfs['2018']['test']['sentence5'] = dfs['2018']['test']['RandomFifthSentenceQuiz1']\n",
    "dfs['2018']['test']['sentenceE'] = dfs['2018']['test']['RandomFifthSentenceQuiz2']"
   ]
  },
  {
   "cell_type": "code",
   "execution_count": 7,
   "id": "aa284759-0ec9-429d-807a-c6f66bbf4d64",
   "metadata": {},
   "outputs": [],
   "source": [
    "# Rename columns to match in all splits\n",
    "columns_to_rename = {\n",
    "        'InputStoryid': 'storyid',\n",
    "        'InputSentence1': 'sentence1',\n",
    "        'InputSentence2': 'sentence2',\n",
    "        'InputSentence3': 'sentence3',    \n",
    "        'InputSentence4': 'sentence4',\n",
    "    }\n",
    "\n",
    "dfs['2016']['test'] =  dfs['2016']['test'].rename(columns=columns_to_rename)\n",
    "dfs['2016']['validation'] = dfs['2016']['validation'].rename(columns=columns_to_rename)\n",
    "\n",
    "dfs['2018']['test'] =  dfs['2018']['test'].rename(columns=columns_to_rename)\n",
    "dfs['2018']['validation'] = dfs['2018']['validation'].rename(columns=columns_to_rename)"
   ]
  },
  {
   "cell_type": "code",
   "execution_count": 8,
   "id": "c64010f4-3f6e-446b-a9e4-3a02b6b760d7",
   "metadata": {},
   "outputs": [],
   "source": [
    "# Removing unecessary columns\n",
    "columns_to_remove = ['RandomFifthSentenceQuiz1', 'RandomFifthSentenceQuiz2', 'AnswerRightEnding']\n",
    "\n",
    "dfs['2016']['test'] =  dfs['2016']['test'].drop(columns=columns_to_remove)\n",
    "dfs['2016']['validation'] = dfs['2016']['validation'].drop(columns=columns_to_remove)\n",
    "\n",
    "dfs['2018']['test'] =  dfs['2018']['test'].drop(columns=columns_to_remove, errors='ignore')\n",
    "dfs['2018']['validation'] = dfs['2018']['validation'].drop(columns=columns_to_remove)"
   ]
  },
  {
   "cell_type": "code",
   "execution_count": 9,
   "id": "143ae964-2e64-417c-bb01-446988f53efe",
   "metadata": {},
   "outputs": [],
   "source": [
    "# Adding empty columns\n",
    "dfs['2016']['train']['sentenceE'] = \"\"\n",
    "dfs['2016']['test']['storytitle'] = \"\"\n",
    "dfs['2016']['validation']['storytitle'] = \"\"\n",
    "\n",
    "dfs['2018']['train']['sentenceE'] = \"\"\n",
    "dfs['2018']['test']['storytitle'] = \"\"\n",
    "dfs['2018']['validation']['storytitle'] = \"\""
   ]
  },
  {
   "cell_type": "code",
   "execution_count": 10,
   "id": "c16ff253-5391-43b7-b1ba-bccada17f3aa",
   "metadata": {},
   "outputs": [],
   "source": [
    "# Reordering columns\n",
    "columns =  ['storyid', 'storytitle', 'sentence1', 'sentence2', 'sentence3', 'sentence4', 'sentence5', 'sentenceE']\n",
    "\n",
    "dfs['2016']['train'] = dfs['2016']['train'][columns]\n",
    "dfs['2016']['test'] = dfs['2016']['test'][columns]\n",
    "dfs['2016']['validation'] = dfs['2016']['validation'][columns]\n",
    "\n",
    "dfs['2018']['train'] = dfs['2018']['train'][columns]\n",
    "dfs['2018']['test'] = dfs['2018']['test'][columns]\n",
    "dfs['2018']['validation'] = dfs['2018']['validation'][columns]\n"
   ]
  },
  {
   "cell_type": "code",
   "execution_count": 11,
   "id": "cd531c45-a944-4762-9f6c-52e0235bdd48",
   "metadata": {},
   "outputs": [],
   "source": [
    "# Build dataset\n",
    "rocstories_2016 = datasets.DatasetDict({\n",
    "    'train': datasets.Dataset.from_pandas(dfs['2016']['train']),\n",
    "    'test': datasets.Dataset.from_pandas(dfs['2016']['test']),\n",
    "    'validation': datasets.Dataset.from_pandas(dfs['2016']['validation'])\n",
    "})"
   ]
  },
  {
   "cell_type": "code",
   "execution_count": 12,
   "id": "053399c7-9970-44c4-8aab-6e6f24561677",
   "metadata": {},
   "outputs": [],
   "source": [
    "rocstories_2018 = datasets.DatasetDict({\n",
    "    'train': datasets.Dataset.from_pandas(dfs['2018']['train']),\n",
    "    'test': datasets.Dataset.from_pandas(dfs['2018']['test']),\n",
    "    'validation': datasets.Dataset.from_pandas(dfs['2018']['validation'])\n",
    "})"
   ]
  },
  {
   "cell_type": "code",
   "execution_count": 13,
   "id": "57fb870d-e479-4ebd-81ac-8342dad0c9a6",
   "metadata": {},
   "outputs": [
    {
     "data": {
      "application/vnd.jupyter.widget-view+json": {
       "model_id": "163339b3644445ccb1ecf32e10115153",
       "version_major": 2,
       "version_minor": 0
      },
      "text/plain": [
       "Uploading the dataset shards:   0%|          | 0/1 [00:00<?, ?it/s]"
      ]
     },
     "metadata": {},
     "output_type": "display_data"
    },
    {
     "data": {
      "application/vnd.jupyter.widget-view+json": {
       "model_id": "ce3b76dd1e534c20ab1f2b8dbd585d63",
       "version_major": 2,
       "version_minor": 0
      },
      "text/plain": [
       "Creating parquet from Arrow format:   0%|          | 0/46 [00:00<?, ?ba/s]"
      ]
     },
     "metadata": {},
     "output_type": "display_data"
    },
    {
     "data": {
      "application/vnd.jupyter.widget-view+json": {
       "model_id": "d59213f79e744a0fa39967c459f3b553",
       "version_major": 2,
       "version_minor": 0
      },
      "text/plain": [
       "Uploading the dataset shards:   0%|          | 0/1 [00:00<?, ?it/s]"
      ]
     },
     "metadata": {},
     "output_type": "display_data"
    },
    {
     "data": {
      "application/vnd.jupyter.widget-view+json": {
       "model_id": "57e6657f7ec44b72a0cdce23cceb2d71",
       "version_major": 2,
       "version_minor": 0
      },
      "text/plain": [
       "Creating parquet from Arrow format:   0%|          | 0/2 [00:00<?, ?ba/s]"
      ]
     },
     "metadata": {},
     "output_type": "display_data"
    },
    {
     "data": {
      "application/vnd.jupyter.widget-view+json": {
       "model_id": "238cd2dc605b4fef97db58bfbee5b2c1",
       "version_major": 2,
       "version_minor": 0
      },
      "text/plain": [
       "Uploading the dataset shards:   0%|          | 0/1 [00:00<?, ?it/s]"
      ]
     },
     "metadata": {},
     "output_type": "display_data"
    },
    {
     "data": {
      "application/vnd.jupyter.widget-view+json": {
       "model_id": "be22557b7d9f487892490491a317dea7",
       "version_major": 2,
       "version_minor": 0
      },
      "text/plain": [
       "Creating parquet from Arrow format:   0%|          | 0/2 [00:00<?, ?ba/s]"
      ]
     },
     "metadata": {},
     "output_type": "display_data"
    },
    {
     "data": {
      "text/plain": [
       "CommitInfo(commit_url='https://huggingface.co/datasets/igormorgado/ROCStories2016/commit/a2deb1f67410a67faccac1b8ab353f3be65adc99', commit_message='Upload dataset', commit_description='', oid='a2deb1f67410a67faccac1b8ab353f3be65adc99', pr_url=None, repo_url=RepoUrl('https://huggingface.co/datasets/igormorgado/ROCStories2016', endpoint='https://huggingface.co', repo_type='dataset', repo_id='igormorgado/ROCStories2016'), pr_revision=None, pr_num=None)"
      ]
     },
     "execution_count": 13,
     "metadata": {},
     "output_type": "execute_result"
    }
   ],
   "source": [
    "dataset2016 = \"igormorgado/ROCStories2016\"\n",
    "rocstories_2016.push_to_hub(dataset2016)"
   ]
  },
  {
   "cell_type": "code",
   "execution_count": 15,
   "id": "484545a6-d621-4c77-95ce-a568ffbc3ba9",
   "metadata": {},
   "outputs": [
    {
     "data": {
      "application/vnd.jupyter.widget-view+json": {
       "model_id": "c0713a07bf054292a684de4a11c16d99",
       "version_major": 2,
       "version_minor": 0
      },
      "text/plain": [
       "Uploading the dataset shards:   0%|          | 0/1 [00:00<?, ?it/s]"
      ]
     },
     "metadata": {},
     "output_type": "display_data"
    },
    {
     "data": {
      "application/vnd.jupyter.widget-view+json": {
       "model_id": "371ea3836aa442bb8ac5a403b78b8885",
       "version_major": 2,
       "version_minor": 0
      },
      "text/plain": [
       "Creating parquet from Arrow format:   0%|          | 0/53 [00:00<?, ?ba/s]"
      ]
     },
     "metadata": {},
     "output_type": "display_data"
    },
    {
     "data": {
      "application/vnd.jupyter.widget-view+json": {
       "model_id": "2e526883b0b74d43a37c37bfa98a457d",
       "version_major": 2,
       "version_minor": 0
      },
      "text/plain": [
       "Uploading the dataset shards:   0%|          | 0/1 [00:00<?, ?it/s]"
      ]
     },
     "metadata": {},
     "output_type": "display_data"
    },
    {
     "data": {
      "application/vnd.jupyter.widget-view+json": {
       "model_id": "b30c45aaa2244efdad875b8c81bee9cc",
       "version_major": 2,
       "version_minor": 0
      },
      "text/plain": [
       "Creating parquet from Arrow format:   0%|          | 0/2 [00:00<?, ?ba/s]"
      ]
     },
     "metadata": {},
     "output_type": "display_data"
    },
    {
     "data": {
      "application/vnd.jupyter.widget-view+json": {
       "model_id": "60a5d19253fc409b8c66be28c3044829",
       "version_major": 2,
       "version_minor": 0
      },
      "text/plain": [
       "Uploading the dataset shards:   0%|          | 0/1 [00:00<?, ?it/s]"
      ]
     },
     "metadata": {},
     "output_type": "display_data"
    },
    {
     "data": {
      "application/vnd.jupyter.widget-view+json": {
       "model_id": "603270a70d484f5d9106c4eabaaf976b",
       "version_major": 2,
       "version_minor": 0
      },
      "text/plain": [
       "Creating parquet from Arrow format:   0%|          | 0/2 [00:00<?, ?ba/s]"
      ]
     },
     "metadata": {},
     "output_type": "display_data"
    },
    {
     "data": {
      "text/plain": [
       "CommitInfo(commit_url='https://huggingface.co/datasets/igormorgado/ROCStories2018/commit/cf9d25d619345d75051b9430adae7818af65c587', commit_message='Upload dataset', commit_description='', oid='cf9d25d619345d75051b9430adae7818af65c587', pr_url=None, repo_url=RepoUrl('https://huggingface.co/datasets/igormorgado/ROCStories2018', endpoint='https://huggingface.co', repo_type='dataset', repo_id='igormorgado/ROCStories2018'), pr_revision=None, pr_num=None)"
      ]
     },
     "execution_count": 15,
     "metadata": {},
     "output_type": "execute_result"
    }
   ],
   "source": [
    "dataset2018 = \"igormorgado/ROCStories2018\"\n",
    "rocstories_2018.push_to_hub(dataset2018)"
   ]
  },
  {
   "cell_type": "code",
   "execution_count": 18,
   "id": "88912547-8349-45da-85f1-cf4d9b6dbff5",
   "metadata": {},
   "outputs": [],
   "source": [
    "README_2016 = \"\"\"\n",
    "# ROCStories 2016 Dataset\n",
    "\n",
    "This is the HuggingFace version of ROCStories Dataset.\n",
    "\n",
    "We take a few changes.\n",
    "\n",
    "1. Column names are renamed to match in each split, for example in `test` we have originally `InputSentenceX`, that was renamed do `sentenceX` to match the `train` split.\n",
    "\n",
    "2. Columns missing in different splits were add to the other split with empty values. For example `train` split contains `storytitle` column. This column as added in `test` and `validation` splits. \n",
    "\n",
    "3. There was three columns in `test`/`validation` splits. `RandomFifthSentenceQuiz[1|2]` and `AnswerRightEnding`. The first ones where renamed to `sentence5` if they are the correct answer (based on the `AnserRightEnding`) and the other was renamed to `sentenceE` (Error) if its not the right answer.\n",
    "\n",
    "Most of these changes were taken to avoid a limitation in DatasetDicts in HuggingFace, since they all need to have the same columns.\n",
    "\n",
    "Original Paper\n",
    "\n",
    "\"A Corpus and Cloze Evaluation for Deeper Understanding of Commonsense Stories\". Nasrin Mostafazadeh, Nathanael Chambers, Xiaodong He, Devi Parikh, Dhruv Batra, Lucy Vanderwende, Pushmeet Kohli and James Allen. In Proceedings of the 2016 Conference of the North American Chapter of the Association for Computational Linguistics: Human Language Technologies (NAACL HLT), 2016\n",
    "\"\"\""
   ]
  },
  {
   "cell_type": "code",
   "execution_count": 17,
   "id": "35b8bad8-3cca-4dd2-93d4-6a960233ce4f",
   "metadata": {},
   "outputs": [],
   "source": [
    "README_2018 = \"\"\"\n",
    "# ROCStories 2018 Dataset\n",
    "\n",
    "This is the HuggingFace version of ROCStories Dataset.\n",
    "\n",
    "We take a few changes.\n",
    "\n",
    "1. Column names are renamed to match in each split, for example in `test` we have originally `InputSentenceX`, that was renamed do `sentenceX` to match the `train` split.\n",
    "\n",
    "2. Columns missing in different splits were add to the other split with empty values. For example `train` split contains `storytitle` column. This column as added in `test` and `validation` splits. \n",
    "\n",
    "3. There was three columns in `test`/`validation` splits. `RandomFifthSentenceQuiz[1|2]` and `AnswerRightEnding`. The first ones where renamed to `sentence5` if they are the correct answer (based on the `AnserRightEnding`) and the other was renamed to `sentenceE` (Error) if its not the right answer.\n",
    "\n",
    "WARNING: The test set of 2018 dataset do not contains the column `AnswerRightEnding`, therefore, for sake of completeness we took `RandomFifthSentenceQuiz1` as the correct one and the `RandomFifthSentenceQuiz1` as the wrong one. If you know where to find the correct answers, please let me know and I will fix the dataset.\n",
    "\n",
    "Most of these changes were taken to avoid a limitation in DatasetDicts in HuggingFace, since they all need to have the same columns.\n",
    "\n",
    "Regarding the ROCStories these are the original papers\n",
    "\n",
    "\"Tackling The Story Ending Biases in The Story Cloze Test\". Rishi Sharma, James Allen, Omid Bakhshandeh, Nasrin Mostafazadeh. In Proceedings of the 2018 Conference of the Association for Computational Linguistics (ACL), 2018\n",
    "\"\"\""
   ]
  },
  {
   "cell_type": "code",
   "execution_count": 23,
   "id": "53950f11-e291-494a-85c5-58bb600e6073",
   "metadata": {},
   "outputs": [],
   "source": [
    "from huggingface_hub import HfApi, login\n",
    "import io\n",
    "api = HfApi()"
   ]
  },
  {
   "cell_type": "code",
   "execution_count": 24,
   "id": "3db849c4-8d25-4568-9048-324f6c702516",
   "metadata": {},
   "outputs": [
    {
     "name": "stderr",
     "output_type": "stream",
     "text": [
      "/home/igor/.pyenv/versions/3.11.10/envs/gah-env/lib/python3.11/site-packages/huggingface_hub/hf_api.py:9532: UserWarning: Warnings while validating metadata in README.md:\n",
      "- empty or missing yaml metadata in repo card\n",
      "  warnings.warn(f\"Warnings while validating metadata in README.md:\\n{message}\")\n"
     ]
    },
    {
     "name": "stdout",
     "output_type": "stream",
     "text": [
      "README.md has been uploaded to igormorgado/ROCStories2016\n"
     ]
    }
   ],
   "source": [
    "readme_bytes = README_2016.encode('utf-8')\n",
    "\n",
    "# Upload the README content\n",
    "api.upload_file(\n",
    "    path_or_fileobj=io.BytesIO(readme_bytes),\n",
    "    path_in_repo=\"README.md\",\n",
    "    repo_id=dataset2016,\n",
    "    repo_type=\"dataset\",\n",
    ")\n",
    "\n",
    "print(f\"README.md has been uploaded to {dataset2016}\")"
   ]
  },
  {
   "cell_type": "code",
   "execution_count": 25,
   "id": "4d82ab2b-093a-45b2-87ba-ce51f286b428",
   "metadata": {},
   "outputs": [
    {
     "name": "stdout",
     "output_type": "stream",
     "text": [
      "README.md has been uploaded to igormorgado/ROCStories2018\n"
     ]
    }
   ],
   "source": [
    "readme_bytes = README_2018.encode('utf-8')\n",
    "\n",
    "# Upload the README content\n",
    "api.upload_file(\n",
    "    path_or_fileobj=io.BytesIO(readme_bytes),\n",
    "    path_in_repo=\"README.md\",\n",
    "    repo_id=dataset2018,\n",
    "    repo_type=\"dataset\",\n",
    ")\n",
    "\n",
    "print(f\"README.md has been uploaded to {dataset2018}\")"
   ]
  },
  {
   "cell_type": "code",
   "execution_count": null,
   "id": "905c2988-0d84-4f55-bfc2-02b16d95bd37",
   "metadata": {},
   "outputs": [],
   "source": []
  }
 ],
 "metadata": {
  "kernelspec": {
   "display_name": "Python 3 (ipykernel)",
   "language": "python",
   "name": "python3"
  },
  "language_info": {
   "codemirror_mode": {
    "name": "ipython",
    "version": 3
   },
   "file_extension": ".py",
   "mimetype": "text/x-python",
   "name": "python",
   "nbconvert_exporter": "python",
   "pygments_lexer": "ipython3",
   "version": "3.11.10"
  }
 },
 "nbformat": 4,
 "nbformat_minor": 5
}
