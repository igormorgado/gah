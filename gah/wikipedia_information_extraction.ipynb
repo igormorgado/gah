{
 "cells": [
  {
   "cell_type": "markdown",
   "id": "8b3bedce-2d5c-48c7-b372-13a0dbd3377f",
   "metadata": {},
   "source": [
    "# Coreference, Relation Extraction and Entity Linking\n",
    "\n",
    "Build coreference and relation extraction from a text then uses wikipedia to make entity linking (weak one)"
   ]
  },
  {
   "cell_type": "code",
   "execution_count": 5,
   "id": "76eb5fa4-6808-4eda-9edd-bdfaed7239f9",
   "metadata": {},
   "outputs": [],
   "source": [
    "import requests\n",
    "import json\n",
    "import pandas as pd\n",
    "\n",
    "import spacy\n",
    "import rebel_spacy\n",
    "import torch\n",
    "\n",
    "from neo4j import GraphDatabase\n",
    "\n",
    "from graphs import (\n",
    "    explode_columns,\n",
    "    run_query,\n",
    "    get_all_relationships,\n",
    "    get_all_nodes,\n",
    "    cleanup_database,\n",
    "    create_relationship,\n",
    "    create_node,\n",
    ")\n",
    "\n",
    "from spacy_custom import get_relations\n",
    "from utils import get_wikipedia_summary\n",
    "from config import load_config"
   ]
  },
  {
   "cell_type": "code",
   "execution_count": 6,
   "id": "a49c08b6-2ec2-4a4d-be53-6f6ba1692c11",
   "metadata": {},
   "outputs": [
    {
     "name": "stderr",
     "output_type": "stream",
     "text": [
      "/home/igor/.pyenv/versions/3.11.10/envs/gah-env/lib/python3.11/site-packages/huggingface_hub/file_download.py:1142: FutureWarning: `resume_download` is deprecated and will be removed in version 1.0.0. Downloads always resume when possible. If you want to force a new download, use `force_download=True`.\n",
      "  warnings.warn(\n"
     ]
    }
   ],
   "source": [
    "if torch.cuda.is_available():\n",
    "    torch_device = \"gpu\" \n",
    "    rebel_device = 0\n",
    "else:\n",
    "    torch_device =\"cpu\"\n",
    "    rebel_device = -1\n",
    "\n",
    "config, secrets = load_config()\n",
    "\n",
    "relext_pipeline = spacy.load('en_core_web_sm', disable=['ner', 'lemmatizer', 'attribute_rules', 'tagger'])\n",
    "\n",
    "rebel_config_params = {\n",
    "    'device': rebel_device,\n",
    "    'model_name': 'Babelscape/rebel-large'\n",
    "}\n",
    "\n",
    "rebel_comp = relext_pipeline.add_pipe(\"rebel\", config=rebel_config_params)"
   ]
  },
  {
   "cell_type": "markdown",
   "id": "efe0c6d4-e932-4333-9771-6e41497da426",
   "metadata": {},
   "source": [
    "## Load wikipedia"
   ]
  },
  {
   "cell_type": "code",
   "execution_count": 8,
   "id": "806f2e3a-6c53-4ef1-8956-c0e3e980feb2",
   "metadata": {},
   "outputs": [
    {
     "name": "stdout",
     "output_type": "stream",
     "text": [
      "Missing key for characters in the series.\n",
      "Missing key for Jon storyline.\n",
      "Missing key for season 5 finale.\n",
      "Missing key for season 5 finale.\n",
      "Missing key for Jon storyline.\n",
      "Missing key for Westeros Ygritte.\n",
      "Missing key for Westeros Ygritte.\n",
      "Missing key for Lord Commander of the Watch.\n",
      "Missing key for Lord Commander of the Watch.\n",
      "Missing key for Best Actor – Television Series Drama.\n",
      "Missing key for Best Actor – Television Series Drama.\n",
      "Missing key for Outstanding Supporting Actor in a Drama Series.\n"
     ]
    }
   ],
   "source": [
    "entity = \"Jon Snow (character)\"\n",
    "summary = get_wikipedia_summary(entity)\n",
    "\n",
    "# Corefs resolve\n",
    "coref_pipeline = spacy.load(\"en_core_web_sm\")\n",
    "# Creates doc._.coref_chains\n",
    "coref_comp = coref_pipeline.add_pipe('coreferee')\n",
    "\n",
    "relations = get_relations(summary, coref_pipeline, relext_pipeline)\n",
    "\n",
    "## Build relations\n",
    "\n",
    "with open(\"relationship_import.cypher\") as file:\n",
    "    query = file.read()\n",
    "\n",
    "driver = GraphDatabase.driver(config.neo4j.uri, auth=(config.neo4j.username, secrets.neo4j_password))\n",
    "\n",
    "with driver.session() as session:\n",
    "    # BE CAREFUL IT WILL REPLACE THE WHOLE DATABASE\n",
    "    #summary = cleanup_database(session)\n",
    "    #session.execute_write(run_query, query, parameters={'data': relations})\n",
    "\n",
    "# Return relationships/nodes as dataframes.\n",
    "with driver.session() as session:\n",
    "    rels = session.execute_read(get_all_relationships)\n",
    "    nodes = session.execute_read(get_all_nodes)\n",
    "\n",
    "rels_df = explode_columns(pd.DataFrame(rels))\n",
    "nodes_df = explode_columns(pd.DataFrame(nodes))\n",
    "\n"
   ]
  },
  {
   "cell_type": "code",
   "execution_count": null,
   "id": "f096f982-fca5-4f5d-a878-d06c41a67d41",
   "metadata": {},
   "outputs": [],
   "source": []
  }
 ],
 "metadata": {
  "kernelspec": {
   "display_name": "Python 3 (ipykernel)",
   "language": "python",
   "name": "python3"
  },
  "language_info": {
   "codemirror_mode": {
    "name": "ipython",
    "version": 3
   },
   "file_extension": ".py",
   "mimetype": "text/x-python",
   "name": "python",
   "nbconvert_exporter": "python",
   "pygments_lexer": "ipython3",
   "version": "3.11.10"
  }
 },
 "nbformat": 4,
 "nbformat_minor": 5
}
