{
 "cells": [
  {
   "cell_type": "markdown",
   "id": "8b3bedce-2d5c-48c7-b372-13a0dbd3377f",
   "metadata": {},
   "source": [
    "# Coreference, Relation Extraction and Entity Linking\n",
    "\n",
    "Build coreference and relation extraction from a text then uses wikipedia to make entity linking (weak one)"
   ]
  },
  {
   "cell_type": "code",
   "execution_count": 1,
   "id": "76eb5fa4-6808-4eda-9edd-bdfaed7239f9",
   "metadata": {},
   "outputs": [
    {
     "name": "stderr",
     "output_type": "stream",
     "text": [
      "/home/igor/.pyenv/versions/3.11.10/envs/gah-env/lib/python3.11/site-packages/transformers/utils/generic.py:441: FutureWarning: `torch.utils._pytree._register_pytree_node` is deprecated. Please use `torch.utils._pytree.register_pytree_node` instead.\n",
      "  _torch_pytree._register_pytree_node(\n",
      "/home/igor/.pyenv/versions/3.11.10/envs/gah-env/lib/python3.11/site-packages/transformers/utils/generic.py:309: FutureWarning: `torch.utils._pytree._register_pytree_node` is deprecated. Please use `torch.utils._pytree.register_pytree_node` instead.\n",
      "  _torch_pytree._register_pytree_node(\n"
     ]
    },
    {
     "ename": "ModuleNotFoundError",
     "evalue": "No module named 'mediawiki'",
     "output_type": "error",
     "traceback": [
      "\u001b[0;31m---------------------------------------------------------------------------\u001b[0m",
      "\u001b[0;31mModuleNotFoundError\u001b[0m                       Traceback (most recent call last)",
      "Cell \u001b[0;32mIn[1], line 22\u001b[0m\n\u001b[1;32m     11\u001b[0m \u001b[38;5;28;01mfrom\u001b[39;00m \u001b[38;5;21;01mgraphs\u001b[39;00m \u001b[38;5;28;01mimport\u001b[39;00m (\n\u001b[1;32m     12\u001b[0m     explode_columns,\n\u001b[1;32m     13\u001b[0m     run_query,\n\u001b[0;32m   (...)\u001b[0m\n\u001b[1;32m     18\u001b[0m     create_node,\n\u001b[1;32m     19\u001b[0m )\n\u001b[1;32m     21\u001b[0m \u001b[38;5;28;01mfrom\u001b[39;00m \u001b[38;5;21;01mspacy_custom\u001b[39;00m \u001b[38;5;28;01mimport\u001b[39;00m get_relations\n\u001b[0;32m---> 22\u001b[0m \u001b[38;5;28;01mfrom\u001b[39;00m \u001b[38;5;21;01mutils\u001b[39;00m \u001b[38;5;28;01mimport\u001b[39;00m get_wikipedia_summary\n\u001b[1;32m     23\u001b[0m \u001b[38;5;28;01mfrom\u001b[39;00m \u001b[38;5;21;01mconfig\u001b[39;00m \u001b[38;5;28;01mimport\u001b[39;00m load_config\n",
      "File \u001b[0;32m~/dsc/gah/utils.py:2\u001b[0m\n\u001b[1;32m      1\u001b[0m \u001b[38;5;28;01mimport\u001b[39;00m \u001b[38;5;21;01mtorch\u001b[39;00m\n\u001b[0;32m----> 2\u001b[0m \u001b[38;5;28;01mimport\u001b[39;00m \u001b[38;5;21;01mmediawiki\u001b[39;00m\n\u001b[1;32m      3\u001b[0m \u001b[38;5;28;01mfrom\u001b[39;00m \u001b[38;5;21;01mmediawiki\u001b[39;00m \u001b[38;5;28;01mimport\u001b[39;00m MediaWiki\n\u001b[1;32m      6\u001b[0m \u001b[38;5;28;01mdef\u001b[39;00m \u001b[38;5;21mget_tensor_memory_usage\u001b[39m(tensor: torch\u001b[38;5;241m.\u001b[39mTensor):\n",
      "\u001b[0;31mModuleNotFoundError\u001b[0m: No module named 'mediawiki'"
     ]
    }
   ],
   "source": [
    "import requests\n",
    "import json\n",
    "import pandas as pd\n",
    "\n",
    "import spacy\n",
    "import rebel_spacy\n",
    "import torch\n",
    "\n",
    "from neo4j import GraphDatabase\n",
    "\n",
    "from graphs import (\n",
    "    explode_columns,\n",
    "    run_query,\n",
    "    get_all_relationships,\n",
    "    get_all_nodes,\n",
    "    cleanup_database,\n",
    "    create_relationship,\n",
    "    create_node,\n",
    ")\n",
    "\n",
    "from spacy_custom import get_relations\n",
    "from utils import get_wikipedia_summary\n",
    "from config import load_config"
   ]
  },
  {
   "cell_type": "code",
   "execution_count": null,
   "id": "a49c08b6-2ec2-4a4d-be53-6f6ba1692c11",
   "metadata": {},
   "outputs": [],
   "source": [
    "if torch.cuda.is_available():\n",
    "    torch_device = \"gpu\" \n",
    "    rebel_device = 0\n",
    "else:\n",
    "    torch_device =\"cpu\"\n",
    "    rebel_device = -1\n",
    "\n",
    "config, secrets = load_config()\n",
    "\n",
    "relext_pipeline = spacy.load('en_core_web_sm', disable=['ner', 'lemmatizer', 'attribute_rules', 'tagger'])\n",
    "\n",
    "rebel_config_params = {\n",
    "    'device': rebel_device,\n",
    "    'model_name': 'Babelscape/rebel-large'\n",
    "}\n",
    "\n",
    "rebel_comp = relext_pipeline.add_pipe(\"rebel\", config=rebel_config_params)"
   ]
  },
  {
   "cell_type": "markdown",
   "id": "efe0c6d4-e932-4333-9771-6e41497da426",
   "metadata": {},
   "source": [
    "## Load wikipedia"
   ]
  },
  {
   "cell_type": "code",
   "execution_count": null,
   "id": "806f2e3a-6c53-4ef1-8956-c0e3e980feb2",
   "metadata": {},
   "outputs": [],
   "source": [
    "entity = \"Jon Snow (character)\"\n",
    "summary = get_wikipedia_summary(entity)\n",
    "\n",
    "# Corefs resolve\n",
    "coref_pipeline = spacy.load(\"en_core_web_sm\")\n",
    "# Creates doc._.coref_chains\n",
    "coref_comp = coref_pipeline.add_pipe('coreferee')\n",
    "\n",
    "relations = get_relations(summary, coref_pipeline, relext_pipeline)\n",
    "\n",
    "## Build relations\n",
    "\n",
    "with open(\"relationship_import.cypher\") as file:\n",
    "    query = file.read()\n",
    "\n",
    "driver = GraphDatabase.driver(config.neo4j.uri, auth=(config.neo4j.username, secrets.neo4j_password))\n",
    "\n",
    "with driver.session() as session:\n",
    "    summary = cleanup_database(session)\n",
    "    session.execute_write(run_query, query, parameters={'data': relations})\n",
    "\n",
    "# Return relationships/nodes as dataframes.\n",
    "with driver.session() as session:\n",
    "    rels = session.execute_read(get_all_relationships)\n",
    "    nodes = session.execute_read(get_all_nodes)\n",
    "\n",
    "rels_df = explode_columns(pd.DataFrame(rels))\n",
    "nodes_df = explode_columns(pd.DataFrame(nodes))\n",
    "\n"
   ]
  }
 ],
 "metadata": {
  "kernelspec": {
   "display_name": "Python 3 (ipykernel)",
   "language": "python",
   "name": "python3"
  },
  "language_info": {
   "codemirror_mode": {
    "name": "ipython",
    "version": 3
   },
   "file_extension": ".py",
   "mimetype": "text/x-python",
   "name": "python",
   "nbconvert_exporter": "python",
   "pygments_lexer": "ipython3",
   "version": "3.11.10"
  }
 },
 "nbformat": 4,
 "nbformat_minor": 5
}
