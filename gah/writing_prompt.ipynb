{
 "cells": [
  {
   "cell_type": "code",
   "execution_count": 1,
   "id": "ec62a095-84d9-480a-b376-a96f0af73c88",
   "metadata": {},
   "outputs": [],
   "source": [
    "import datasets\n",
    "from functools import reduce\n",
    "import spacy\n",
    "from spacy import displacy\n",
    "import wp\n"
   ]
  },
  {
   "cell_type": "code",
   "execution_count": 2,
   "id": "6d023ba9-ce70-43b1-8ca4-61c247916dea",
   "metadata": {},
   "outputs": [],
   "source": [
    "import warnings\n",
    "#warnings.filterwarnings(\"ignore\", category=FutureWarning, module=\"spacy_transformers.layers\")\n",
    "warnings.filterwarnings(\"ignore\", category=FutureWarning, module=\"transformers.utils\")\n",
    "warnings.filterwarnings(\"ignore\", category=FutureWarning, module=\"thinc.shims\")\n",
    "#warnings.filterwarnings(\"ignore\", category=UserWarning, module=\"spacy.util\")\n",
    "#warnings.filterwarnings(\"ignore\", category=UserWarning, module=\"spacy_transformers.layers\")"
   ]
  },
  {
   "cell_type": "code",
   "execution_count": 4,
   "id": "ccca27f5-1fa6-4c5f-9993-53cd59b14bd6",
   "metadata": {},
   "outputs": [
    {
     "data": {
      "application/vnd.jupyter.widget-view+json": {
       "model_id": "2a1507b04b874ff3a2601bdc36604a71",
       "version_major": 2,
       "version_minor": 0
      },
      "text/plain": [
       "Map (num_proc=6):   0%|          | 0/272600 [00:00<?, ? examples/s]"
      ]
     },
     "metadata": {},
     "output_type": "display_data"
    },
    {
     "data": {
      "application/vnd.jupyter.widget-view+json": {
       "model_id": "ba76b2c89426472f95f34795b38d1247",
       "version_major": 2,
       "version_minor": 0
      },
      "text/plain": [
       "Map (num_proc=6):   0%|          | 0/15138 [00:00<?, ? examples/s]"
      ]
     },
     "metadata": {},
     "output_type": "display_data"
    },
    {
     "data": {
      "application/vnd.jupyter.widget-view+json": {
       "model_id": "cd70b024342344ee8c6632de638b5895",
       "version_major": 2,
       "version_minor": 0
      },
      "text/plain": [
       "Map (num_proc=6):   0%|          | 0/15620 [00:00<?, ? examples/s]"
      ]
     },
     "metadata": {},
     "output_type": "display_data"
    }
   ],
   "source": [
    "wp_ds = wp_ds.map(wp.preprocess, num_proc=6)"
   ]
  },
  {
   "cell_type": "code",
   "execution_count": 6,
   "id": "3bc7745b-54f4-4321-9d70-6bd343070c2a",
   "metadata": {},
   "outputs": [
    {
     "name": "stderr",
     "output_type": "stream",
     "text": [
      "/home/igor/.pyenv/versions/3.11.10/envs/gah-env/lib/python3.11/site-packages/transformers/utils/generic.py:441: FutureWarning: `torch.utils._pytree._register_pytree_node` is deprecated. Please use `torch.utils._pytree.register_pytree_node` instead.\n",
      "  _torch_pytree._register_pytree_node(\n",
      "/home/igor/.pyenv/versions/3.11.10/envs/gah-env/lib/python3.11/site-packages/transformers/utils/generic.py:309: FutureWarning: `torch.utils._pytree._register_pytree_node` is deprecated. Please use `torch.utils._pytree.register_pytree_node` instead.\n",
      "  _torch_pytree._register_pytree_node(\n",
      "/home/igor/.pyenv/versions/3.11.10/envs/gah-env/lib/python3.11/site-packages/thinc/shims/pytorch.py:253: FutureWarning: You are using `torch.load` with `weights_only=False` (the current default value), which uses the default pickle module implicitly. It is possible to construct malicious pickle data which will execute arbitrary code during unpickling (See https://github.com/pytorch/pytorch/blob/main/SECURITY.md#untrusted-models for more details). In a future release, the default value for `weights_only` will be flipped to `True`. This limits the functions that could be executed during unpickling. Arbitrary objects will no longer be allowed to be loaded via this mode unless they are explicitly allowlisted by the user via `torch.serialization.add_safe_globals`. We recommend you start setting `weights_only=True` for any use case where you don't have full control of the loaded file. Please open an issue on GitHub for any issues related to this experimental feature.\n",
      "  model.load_state_dict(torch.load(filelike, map_location=device))\n"
     ]
    },
    {
     "name": "stdout",
     "output_type": "stream",
     "text": [
      "\u001b[1m\n",
      "============================= Pipeline Overview =============================\u001b[0m\n",
      "\n",
      "#   Component         Assigns               Requires   Scores             Retokenizes\n",
      "-   ---------------   -------------------   --------   ----------------   -----------\n",
      "0   transformer       doc._.trf_data                                      False      \n",
      "                                                                                     \n",
      "1   tagger            token.tag                        tag_acc            False      \n",
      "                                                                                     \n",
      "2   parser            token.dep                        dep_uas            False      \n",
      "                      token.head                       dep_las                       \n",
      "                      token.is_sent_start              dep_las_per_type              \n",
      "                      doc.sents                        sents_p                       \n",
      "                                                       sents_r                       \n",
      "                                                       sents_f                       \n",
      "                                                                                     \n",
      "3   attribute_ruler                                                       False      \n",
      "                                                                                     \n",
      "4   lemmatizer        token.lemma                      lemma_acc          False      \n",
      "                                                                                     \n",
      "5   ner               doc.ents                         ents_f             False      \n",
      "                      token.ent_iob                    ents_p                        \n",
      "                      token.ent_type                   ents_r                        \n",
      "                                                       ents_per_type                 \n",
      "\n",
      "\u001b[38;5;2m✔ No problems found.\u001b[0m\n"
     ]
    }
   ],
   "source": [
    "nlp = spacy.load(\"en_core_web_trf\")\n",
    "analysis = nlp.analyze_pipes(pretty=True)"
   ]
  },
  {
   "cell_type": "code",
   "execution_count": 7,
   "id": "58e6f0a3-a4c7-47e6-8dfe-90947e389d8e",
   "metadata": {},
   "outputs": [],
   "source": [
    "# Se precisar de um Tokenizer customizado...\n",
    "#from spacy.attrs import ORTH, NORM\n",
    "#from spacy.tokenizer import Tokenizer\n",
    "#tokenizer = Tokenizer(nlp.vocab)\n",
    "#case = [{ORTH: \"do\"}, {ORTH: \"n't\", NORM: \"not\"}]\n",
    "#tokenizer.add_special_case(\"don't\", case)"
   ]
  },
  {
   "cell_type": "code",
   "execution_count": 8,
   "id": "6b416642-0f86-4114-b0d3-bd10a8a4d42e",
   "metadata": {},
   "outputs": [],
   "source": [
    "text = wp['train']['story'][0]"
   ]
  },
  {
   "cell_type": "code",
   "execution_count": 9,
   "id": "e3067c38-e0f9-4186-868b-12bd0d14568b",
   "metadata": {},
   "outputs": [
    {
     "data": {
      "text/plain": [
       "\"So many times have I walked on ruins, the remainings of places that I loved and got used to.. At first I was scared, each time I could feel my city, my current generation collapse, break into the black hole that thrives within it, I could feel humanity, the way I'm able to feel my body.. After a few hundred years, the pattern became obvious, no longer the war and damage that would devastate me over and over again in the far past was effecting me so dominantly.\\nIt's funny, but I felt as if after gaining what I desired so long, what I have lived for my entire life, only then, when I achieved immortality I started truly aging.\\n\\n5 world wars have passed, and now they feel like a simple sickeness that would pass by every so often, I could no longer evaluate the individual human as a being of its own, the importance of mortals is merely the same as the importance of my skin cells; They are a part of a mechanism so much more advanced, a mechanism that is so dear to my fallen heart a mechanism that I have seen fall and rise so many times, a mechanism that when lost all of which it had, had me loosing my will to live, for the first time in all of my thousands years of existence.\\n\\nAcceptance, something so important. a skill that has proved itself worthy dozens of times, an ability that looks so easy to achieve, a gift, that I wasn't able to aquire in all my years, until now. When the ashes on the ground flew into the now empty air upon humanity's fall, I felt as if all of it's weight was crushing me. Ignorance took over and I searched years for a hope, a sign of the very same patterns that I used to watch reappear every hundred years, the very core of my will to exist that was now no more that I so strongly wish was.\\n\\nIf you have ever wondered if silence can drive people crazy, it can..\\nI can't feel my legs, I have walked for days, just to hear the sound of gravel, crushed bones, crushed buildings and crushed civilizations under my steps to keep my sanity.. until I remembered, the day in my far past. The day of my rebirth, I took out of my pocket a small plastic box, with nine buttons and a small glass window. I couldn't believe this was our past, I couldn't believe how far we have been able to progress and yet, be destroyed by our own violence.\\nI slowly dialed the number I was given, exactly 1729 years ago.\\n\\nI dropped a tear, a tear that was too slow to hit the ground as I got sucked into the darkness that emerged around me.\\n\\nA chill went through my spine as I saw my destiny rise above me, I could see the white teeth under the dark cloack...\\n\\n``You have finally arrived'' He projected into my mind, with the most chilling cold and unhuman voice.\\n\\n``I'm ready to obey'' I answered. I knew who was sitting infront of me, and it was time for me to obey him, after all these years of playing god, even I came to it.\\n\\nFunny isn't it? Even by achieving immortality, death, is inescapable.\\n\""
      ]
     },
     "execution_count": 9,
     "metadata": {},
     "output_type": "execute_result"
    }
   ],
   "source": [
    "text"
   ]
  },
  {
   "cell_type": "code",
   "execution_count": 10,
   "id": "67bdabf4-bec6-49a2-889d-206528508cc8",
   "metadata": {},
   "outputs": [
    {
     "name": "stderr",
     "output_type": "stream",
     "text": [
      "/home/igor/.pyenv/versions/3.11.10/envs/gah-env/lib/python3.11/site-packages/thinc/shims/pytorch.py:114: FutureWarning: `torch.cuda.amp.autocast(args...)` is deprecated. Please use `torch.amp.autocast('cuda', args...)` instead.\n",
      "  with torch.cuda.amp.autocast(self._mixed_precision):\n"
     ]
    }
   ],
   "source": [
    "doc = nlp(text)"
   ]
  },
  {
   "cell_type": "code",
   "execution_count": 11,
   "id": "01096830-1c54-4e58-8763-97ca052ad876",
   "metadata": {},
   "outputs": [],
   "source": [
    "# for sent in doc.sents:\n",
    "#     for token in sent:\n",
    "#         print(f\"{token.i} {token}\", end=\" \")\n",
    "#     print()"
   ]
  },
  {
   "cell_type": "code",
   "execution_count": 12,
   "id": "9f5da6d3-51c6-4dc8-9dcc-e8b9d734f049",
   "metadata": {},
   "outputs": [],
   "source": [
    "sents = list(doc.sents)\n",
    "chunks = list(doc.noun_chunks)"
   ]
  },
  {
   "cell_type": "code",
   "execution_count": 13,
   "id": "29b4c622-9902-4e43-922e-5cf16fc172ff",
   "metadata": {},
   "outputs": [
    {
     "name": "stdout",
     "output_type": "stream",
     "text": [
      "0 So so ADV RB advmod\n",
      "1 many many ADJ JJ amod\n",
      "2 times time NOUN NNS npadvmod\n",
      "3 have have AUX VBP aux\n",
      "4 I I PRON PRP nsubj\n",
      "5 walked walk VERB VBN ROOT\n",
      "6 on on ADP IN prep\n",
      "7 ruins ruin NOUN NNS pobj\n",
      "8 , , PUNCT , punct\n",
      "9 the the DET DT det\n",
      "10 remainings remaining NOUN NNS appos\n",
      "11 of of ADP IN prep\n",
      "12 places place NOUN NNS pobj\n",
      "13 that that PRON WDT pobj\n",
      "14 I I PRON PRP nsubj\n",
      "15 loved love VERB VBD relcl\n",
      "16 and and CCONJ CC cc\n",
      "17 got get VERB VBD conj\n",
      "18 used used ADJ JJ acomp\n",
      "19 to to ADP IN prep\n",
      "20 .. .. PUNCT . punct\n"
     ]
    }
   ],
   "source": [
    "for token in sents[0]:\n",
    "    print(token.i, token, token.lemma_, token.pos_, token.tag_, token.dep_)"
   ]
  },
  {
   "cell_type": "code",
   "execution_count": 14,
   "id": "71a3c8ca-d3b7-4048-ae9f-33b86b857da5",
   "metadata": {},
   "outputs": [
    {
     "name": "stdout",
     "output_type": "stream",
     "text": [
      "So many times have I walked on ruins, the remainings of places that I loved and got used to.. At first I was scared, each time I could feel my city, my current generation collapse, break into the black hole that thrives within it, I could feel humanity, the way I'm able to feel my body.. After a few hundred years, the pattern became obvious, no longer the war and damage that would devastate me over and over again in the far past was effecting me so dominantly.\n",
      "It's funny, but I felt as if after gaining what I desired so long, what I have lived for my entire life, only then, when I achieved immortality I started truly aging.\n",
      "\n",
      "5 world wars have passed, and now they feel like a simple sickeness that would pass by every so often, I could no longer evaluate the individual human as a being of its own, the importance of mortals is merely the same as the importance of my skin cells; They are a part of a mechanism so much more advanced, a mechanism that is so dear to my fallen heart a mechanism that I have seen fall and rise so many times, a mechanism that when lost all of which it had, had me loosing my will to live, for the first time in all of my thousands years of existence.\n",
      "\n",
      "Acceptance, something so important. a skill that has proved itself worthy dozens of times, an ability that looks so easy to achieve, a gift, that I wasn't able to aquire in all my years, until now. When the ashes on the ground flew into the now empty air upon humanity's fall, I felt as if all of it's weight was crushing me. Ignorance took over and I searched years for a hope, a sign of the very same patterns that I used to watch reappear every hundred years, the very core of my will to exist that was now no more that I so strongly wish was.\n",
      "\n",
      "If you have ever wondered if silence can drive people crazy, it can..\n",
      "I can't feel my legs, I have walked for days, just to hear the sound of gravel, crushed bones, crushed buildings and crushed civilizations under my steps to keep my sanity.. until I remembered, the day in my far past. The day of my rebirth, I took out of my pocket a small plastic box, with nine buttons and a small glass window. I couldn't believe this was our past, I couldn't believe how far we have been able to progress and yet, be destroyed by our own violence.\n",
      "I slowly dialed the number I was given, exactly 1729 years ago.\n",
      "\n",
      "I dropped a tear, a tear that was too slow to hit the ground as I got sucked into the darkness that emerged around me.\n",
      "\n",
      "A chill went through my spine as I saw my destiny rise above me, I could see the white teeth under the dark cloack...\n",
      "\n",
      "``You have finally arrived'' He projected into my mind, with the most chilling cold and unhuman voice.\n",
      "\n",
      "``I'm ready to obey'' I answered. I knew who was sitting infront of me, and it was time for me to obey him, after all these years of playing god, even I came to it.\n",
      "\n",
      "Funny isn't it? Even by achieving immortality, death, is inescapable.\n",
      "\n"
     ]
    }
   ],
   "source": [
    "print(doc.text)"
   ]
  },
  {
   "cell_type": "code",
   "execution_count": 15,
   "id": "7a4a5376-07d6-4aba-8f2e-cd3dc0d9e281",
   "metadata": {},
   "outputs": [
    {
     "data": {
      "text/html": [
       "<span class=\"tex2jax_ignore\"><svg xmlns=\"http://www.w3.org/2000/svg\" xmlns:xlink=\"http://www.w3.org/1999/xlink\" xml:lang=\"en\" id=\"2fa981853e1742e48660d8c4e316c10d-0\" class=\"displacy\" width=\"2900\" height=\"437.0\" direction=\"ltr\" style=\"max-width: none; height: 437.0px; color: white; background: #09a3d5; font-family: Source Sans Pro; direction: ltr\">\n",
       "<text class=\"displacy-token\" fill=\"currentColor\" text-anchor=\"middle\" y=\"347.0\">\n",
       "    <tspan class=\"displacy-word\" fill=\"currentColor\" x=\"50\">So</tspan>\n",
       "    <tspan class=\"displacy-tag\" dy=\"2em\" fill=\"currentColor\" x=\"50\">ADV</tspan>\n",
       "</text>\n",
       "\n",
       "<text class=\"displacy-token\" fill=\"currentColor\" text-anchor=\"middle\" y=\"347.0\">\n",
       "    <tspan class=\"displacy-word\" fill=\"currentColor\" x=\"200\">many</tspan>\n",
       "    <tspan class=\"displacy-tag\" dy=\"2em\" fill=\"currentColor\" x=\"200\">ADJ</tspan>\n",
       "</text>\n",
       "\n",
       "<text class=\"displacy-token\" fill=\"currentColor\" text-anchor=\"middle\" y=\"347.0\">\n",
       "    <tspan class=\"displacy-word\" fill=\"currentColor\" x=\"350\">times</tspan>\n",
       "    <tspan class=\"displacy-tag\" dy=\"2em\" fill=\"currentColor\" x=\"350\">NOUN</tspan>\n",
       "</text>\n",
       "\n",
       "<text class=\"displacy-token\" fill=\"currentColor\" text-anchor=\"middle\" y=\"347.0\">\n",
       "    <tspan class=\"displacy-word\" fill=\"currentColor\" x=\"500\">have</tspan>\n",
       "    <tspan class=\"displacy-tag\" dy=\"2em\" fill=\"currentColor\" x=\"500\">AUX</tspan>\n",
       "</text>\n",
       "\n",
       "<text class=\"displacy-token\" fill=\"currentColor\" text-anchor=\"middle\" y=\"347.0\">\n",
       "    <tspan class=\"displacy-word\" fill=\"currentColor\" x=\"650\">I</tspan>\n",
       "    <tspan class=\"displacy-tag\" dy=\"2em\" fill=\"currentColor\" x=\"650\">PRON</tspan>\n",
       "</text>\n",
       "\n",
       "<text class=\"displacy-token\" fill=\"currentColor\" text-anchor=\"middle\" y=\"347.0\">\n",
       "    <tspan class=\"displacy-word\" fill=\"currentColor\" x=\"800\">walked</tspan>\n",
       "    <tspan class=\"displacy-tag\" dy=\"2em\" fill=\"currentColor\" x=\"800\">VERB</tspan>\n",
       "</text>\n",
       "\n",
       "<text class=\"displacy-token\" fill=\"currentColor\" text-anchor=\"middle\" y=\"347.0\">\n",
       "    <tspan class=\"displacy-word\" fill=\"currentColor\" x=\"950\">on</tspan>\n",
       "    <tspan class=\"displacy-tag\" dy=\"2em\" fill=\"currentColor\" x=\"950\">ADP</tspan>\n",
       "</text>\n",
       "\n",
       "<text class=\"displacy-token\" fill=\"currentColor\" text-anchor=\"middle\" y=\"347.0\">\n",
       "    <tspan class=\"displacy-word\" fill=\"currentColor\" x=\"1100\">ruins,</tspan>\n",
       "    <tspan class=\"displacy-tag\" dy=\"2em\" fill=\"currentColor\" x=\"1100\">NOUN</tspan>\n",
       "</text>\n",
       "\n",
       "<text class=\"displacy-token\" fill=\"currentColor\" text-anchor=\"middle\" y=\"347.0\">\n",
       "    <tspan class=\"displacy-word\" fill=\"currentColor\" x=\"1250\">the</tspan>\n",
       "    <tspan class=\"displacy-tag\" dy=\"2em\" fill=\"currentColor\" x=\"1250\">DET</tspan>\n",
       "</text>\n",
       "\n",
       "<text class=\"displacy-token\" fill=\"currentColor\" text-anchor=\"middle\" y=\"347.0\">\n",
       "    <tspan class=\"displacy-word\" fill=\"currentColor\" x=\"1400\">remainings</tspan>\n",
       "    <tspan class=\"displacy-tag\" dy=\"2em\" fill=\"currentColor\" x=\"1400\">NOUN</tspan>\n",
       "</text>\n",
       "\n",
       "<text class=\"displacy-token\" fill=\"currentColor\" text-anchor=\"middle\" y=\"347.0\">\n",
       "    <tspan class=\"displacy-word\" fill=\"currentColor\" x=\"1550\">of</tspan>\n",
       "    <tspan class=\"displacy-tag\" dy=\"2em\" fill=\"currentColor\" x=\"1550\">ADP</tspan>\n",
       "</text>\n",
       "\n",
       "<text class=\"displacy-token\" fill=\"currentColor\" text-anchor=\"middle\" y=\"347.0\">\n",
       "    <tspan class=\"displacy-word\" fill=\"currentColor\" x=\"1700\">places</tspan>\n",
       "    <tspan class=\"displacy-tag\" dy=\"2em\" fill=\"currentColor\" x=\"1700\">NOUN</tspan>\n",
       "</text>\n",
       "\n",
       "<text class=\"displacy-token\" fill=\"currentColor\" text-anchor=\"middle\" y=\"347.0\">\n",
       "    <tspan class=\"displacy-word\" fill=\"currentColor\" x=\"1850\">that</tspan>\n",
       "    <tspan class=\"displacy-tag\" dy=\"2em\" fill=\"currentColor\" x=\"1850\">PRON</tspan>\n",
       "</text>\n",
       "\n",
       "<text class=\"displacy-token\" fill=\"currentColor\" text-anchor=\"middle\" y=\"347.0\">\n",
       "    <tspan class=\"displacy-word\" fill=\"currentColor\" x=\"2000\">I</tspan>\n",
       "    <tspan class=\"displacy-tag\" dy=\"2em\" fill=\"currentColor\" x=\"2000\">PRON</tspan>\n",
       "</text>\n",
       "\n",
       "<text class=\"displacy-token\" fill=\"currentColor\" text-anchor=\"middle\" y=\"347.0\">\n",
       "    <tspan class=\"displacy-word\" fill=\"currentColor\" x=\"2150\">loved</tspan>\n",
       "    <tspan class=\"displacy-tag\" dy=\"2em\" fill=\"currentColor\" x=\"2150\">VERB</tspan>\n",
       "</text>\n",
       "\n",
       "<text class=\"displacy-token\" fill=\"currentColor\" text-anchor=\"middle\" y=\"347.0\">\n",
       "    <tspan class=\"displacy-word\" fill=\"currentColor\" x=\"2300\">and</tspan>\n",
       "    <tspan class=\"displacy-tag\" dy=\"2em\" fill=\"currentColor\" x=\"2300\">CCONJ</tspan>\n",
       "</text>\n",
       "\n",
       "<text class=\"displacy-token\" fill=\"currentColor\" text-anchor=\"middle\" y=\"347.0\">\n",
       "    <tspan class=\"displacy-word\" fill=\"currentColor\" x=\"2450\">got</tspan>\n",
       "    <tspan class=\"displacy-tag\" dy=\"2em\" fill=\"currentColor\" x=\"2450\">VERB</tspan>\n",
       "</text>\n",
       "\n",
       "<text class=\"displacy-token\" fill=\"currentColor\" text-anchor=\"middle\" y=\"347.0\">\n",
       "    <tspan class=\"displacy-word\" fill=\"currentColor\" x=\"2600\">used</tspan>\n",
       "    <tspan class=\"displacy-tag\" dy=\"2em\" fill=\"currentColor\" x=\"2600\">ADJ</tspan>\n",
       "</text>\n",
       "\n",
       "<text class=\"displacy-token\" fill=\"currentColor\" text-anchor=\"middle\" y=\"347.0\">\n",
       "    <tspan class=\"displacy-word\" fill=\"currentColor\" x=\"2750\">to..</tspan>\n",
       "    <tspan class=\"displacy-tag\" dy=\"2em\" fill=\"currentColor\" x=\"2750\">ADP</tspan>\n",
       "</text>\n",
       "\n",
       "<g class=\"displacy-arrow\">\n",
       "    <path class=\"displacy-arc\" id=\"arrow-2fa981853e1742e48660d8c4e316c10d-0-0\" stroke-width=\"2px\" d=\"M62,302.0 62,277.0 191.0,277.0 191.0,302.0\" fill=\"none\" stroke=\"currentColor\"/>\n",
       "    <text dy=\"1.25em\" style=\"font-size: 0.8em; letter-spacing: 1px\">\n",
       "        <textPath xlink:href=\"#arrow-2fa981853e1742e48660d8c4e316c10d-0-0\" class=\"displacy-label\" startOffset=\"50%\" side=\"left\" fill=\"currentColor\" text-anchor=\"middle\">advmod</textPath>\n",
       "    </text>\n",
       "    <path class=\"displacy-arrowhead\" d=\"M62,304.0 L58,296.0 66,296.0\" fill=\"currentColor\"/>\n",
       "</g>\n",
       "\n",
       "<g class=\"displacy-arrow\">\n",
       "    <path class=\"displacy-arc\" id=\"arrow-2fa981853e1742e48660d8c4e316c10d-0-1\" stroke-width=\"2px\" d=\"M212,302.0 212,277.0 341.0,277.0 341.0,302.0\" fill=\"none\" stroke=\"currentColor\"/>\n",
       "    <text dy=\"1.25em\" style=\"font-size: 0.8em; letter-spacing: 1px\">\n",
       "        <textPath xlink:href=\"#arrow-2fa981853e1742e48660d8c4e316c10d-0-1\" class=\"displacy-label\" startOffset=\"50%\" side=\"left\" fill=\"currentColor\" text-anchor=\"middle\">amod</textPath>\n",
       "    </text>\n",
       "    <path class=\"displacy-arrowhead\" d=\"M212,304.0 L208,296.0 216,296.0\" fill=\"currentColor\"/>\n",
       "</g>\n",
       "\n",
       "<g class=\"displacy-arrow\">\n",
       "    <path class=\"displacy-arc\" id=\"arrow-2fa981853e1742e48660d8c4e316c10d-0-2\" stroke-width=\"2px\" d=\"M362,302.0 362,227.0 797.0,227.0 797.0,302.0\" fill=\"none\" stroke=\"currentColor\"/>\n",
       "    <text dy=\"1.25em\" style=\"font-size: 0.8em; letter-spacing: 1px\">\n",
       "        <textPath xlink:href=\"#arrow-2fa981853e1742e48660d8c4e316c10d-0-2\" class=\"displacy-label\" startOffset=\"50%\" side=\"left\" fill=\"currentColor\" text-anchor=\"middle\">npadvmod</textPath>\n",
       "    </text>\n",
       "    <path class=\"displacy-arrowhead\" d=\"M362,304.0 L358,296.0 366,296.0\" fill=\"currentColor\"/>\n",
       "</g>\n",
       "\n",
       "<g class=\"displacy-arrow\">\n",
       "    <path class=\"displacy-arc\" id=\"arrow-2fa981853e1742e48660d8c4e316c10d-0-3\" stroke-width=\"2px\" d=\"M512,302.0 512,252.0 794.0,252.0 794.0,302.0\" fill=\"none\" stroke=\"currentColor\"/>\n",
       "    <text dy=\"1.25em\" style=\"font-size: 0.8em; letter-spacing: 1px\">\n",
       "        <textPath xlink:href=\"#arrow-2fa981853e1742e48660d8c4e316c10d-0-3\" class=\"displacy-label\" startOffset=\"50%\" side=\"left\" fill=\"currentColor\" text-anchor=\"middle\">aux</textPath>\n",
       "    </text>\n",
       "    <path class=\"displacy-arrowhead\" d=\"M512,304.0 L508,296.0 516,296.0\" fill=\"currentColor\"/>\n",
       "</g>\n",
       "\n",
       "<g class=\"displacy-arrow\">\n",
       "    <path class=\"displacy-arc\" id=\"arrow-2fa981853e1742e48660d8c4e316c10d-0-4\" stroke-width=\"2px\" d=\"M662,302.0 662,277.0 791.0,277.0 791.0,302.0\" fill=\"none\" stroke=\"currentColor\"/>\n",
       "    <text dy=\"1.25em\" style=\"font-size: 0.8em; letter-spacing: 1px\">\n",
       "        <textPath xlink:href=\"#arrow-2fa981853e1742e48660d8c4e316c10d-0-4\" class=\"displacy-label\" startOffset=\"50%\" side=\"left\" fill=\"currentColor\" text-anchor=\"middle\">nsubj</textPath>\n",
       "    </text>\n",
       "    <path class=\"displacy-arrowhead\" d=\"M662,304.0 L658,296.0 666,296.0\" fill=\"currentColor\"/>\n",
       "</g>\n",
       "\n",
       "<g class=\"displacy-arrow\">\n",
       "    <path class=\"displacy-arc\" id=\"arrow-2fa981853e1742e48660d8c4e316c10d-0-5\" stroke-width=\"2px\" d=\"M812,302.0 812,277.0 941.0,277.0 941.0,302.0\" fill=\"none\" stroke=\"currentColor\"/>\n",
       "    <text dy=\"1.25em\" style=\"font-size: 0.8em; letter-spacing: 1px\">\n",
       "        <textPath xlink:href=\"#arrow-2fa981853e1742e48660d8c4e316c10d-0-5\" class=\"displacy-label\" startOffset=\"50%\" side=\"left\" fill=\"currentColor\" text-anchor=\"middle\">prep</textPath>\n",
       "    </text>\n",
       "    <path class=\"displacy-arrowhead\" d=\"M941.0,304.0 L945.0,296.0 937.0,296.0\" fill=\"currentColor\"/>\n",
       "</g>\n",
       "\n",
       "<g class=\"displacy-arrow\">\n",
       "    <path class=\"displacy-arc\" id=\"arrow-2fa981853e1742e48660d8c4e316c10d-0-6\" stroke-width=\"2px\" d=\"M962,302.0 962,277.0 1091.0,277.0 1091.0,302.0\" fill=\"none\" stroke=\"currentColor\"/>\n",
       "    <text dy=\"1.25em\" style=\"font-size: 0.8em; letter-spacing: 1px\">\n",
       "        <textPath xlink:href=\"#arrow-2fa981853e1742e48660d8c4e316c10d-0-6\" class=\"displacy-label\" startOffset=\"50%\" side=\"left\" fill=\"currentColor\" text-anchor=\"middle\">pobj</textPath>\n",
       "    </text>\n",
       "    <path class=\"displacy-arrowhead\" d=\"M1091.0,304.0 L1095.0,296.0 1087.0,296.0\" fill=\"currentColor\"/>\n",
       "</g>\n",
       "\n",
       "<g class=\"displacy-arrow\">\n",
       "    <path class=\"displacy-arc\" id=\"arrow-2fa981853e1742e48660d8c4e316c10d-0-7\" stroke-width=\"2px\" d=\"M1262,302.0 1262,277.0 1391.0,277.0 1391.0,302.0\" fill=\"none\" stroke=\"currentColor\"/>\n",
       "    <text dy=\"1.25em\" style=\"font-size: 0.8em; letter-spacing: 1px\">\n",
       "        <textPath xlink:href=\"#arrow-2fa981853e1742e48660d8c4e316c10d-0-7\" class=\"displacy-label\" startOffset=\"50%\" side=\"left\" fill=\"currentColor\" text-anchor=\"middle\">det</textPath>\n",
       "    </text>\n",
       "    <path class=\"displacy-arrowhead\" d=\"M1262,304.0 L1258,296.0 1266,296.0\" fill=\"currentColor\"/>\n",
       "</g>\n",
       "\n",
       "<g class=\"displacy-arrow\">\n",
       "    <path class=\"displacy-arc\" id=\"arrow-2fa981853e1742e48660d8c4e316c10d-0-8\" stroke-width=\"2px\" d=\"M1112,302.0 1112,252.0 1394.0,252.0 1394.0,302.0\" fill=\"none\" stroke=\"currentColor\"/>\n",
       "    <text dy=\"1.25em\" style=\"font-size: 0.8em; letter-spacing: 1px\">\n",
       "        <textPath xlink:href=\"#arrow-2fa981853e1742e48660d8c4e316c10d-0-8\" class=\"displacy-label\" startOffset=\"50%\" side=\"left\" fill=\"currentColor\" text-anchor=\"middle\">appos</textPath>\n",
       "    </text>\n",
       "    <path class=\"displacy-arrowhead\" d=\"M1394.0,304.0 L1398.0,296.0 1390.0,296.0\" fill=\"currentColor\"/>\n",
       "</g>\n",
       "\n",
       "<g class=\"displacy-arrow\">\n",
       "    <path class=\"displacy-arc\" id=\"arrow-2fa981853e1742e48660d8c4e316c10d-0-9\" stroke-width=\"2px\" d=\"M1412,302.0 1412,277.0 1541.0,277.0 1541.0,302.0\" fill=\"none\" stroke=\"currentColor\"/>\n",
       "    <text dy=\"1.25em\" style=\"font-size: 0.8em; letter-spacing: 1px\">\n",
       "        <textPath xlink:href=\"#arrow-2fa981853e1742e48660d8c4e316c10d-0-9\" class=\"displacy-label\" startOffset=\"50%\" side=\"left\" fill=\"currentColor\" text-anchor=\"middle\">prep</textPath>\n",
       "    </text>\n",
       "    <path class=\"displacy-arrowhead\" d=\"M1541.0,304.0 L1545.0,296.0 1537.0,296.0\" fill=\"currentColor\"/>\n",
       "</g>\n",
       "\n",
       "<g class=\"displacy-arrow\">\n",
       "    <path class=\"displacy-arc\" id=\"arrow-2fa981853e1742e48660d8c4e316c10d-0-10\" stroke-width=\"2px\" d=\"M1562,302.0 1562,277.0 1691.0,277.0 1691.0,302.0\" fill=\"none\" stroke=\"currentColor\"/>\n",
       "    <text dy=\"1.25em\" style=\"font-size: 0.8em; letter-spacing: 1px\">\n",
       "        <textPath xlink:href=\"#arrow-2fa981853e1742e48660d8c4e316c10d-0-10\" class=\"displacy-label\" startOffset=\"50%\" side=\"left\" fill=\"currentColor\" text-anchor=\"middle\">pobj</textPath>\n",
       "    </text>\n",
       "    <path class=\"displacy-arrowhead\" d=\"M1691.0,304.0 L1695.0,296.0 1687.0,296.0\" fill=\"currentColor\"/>\n",
       "</g>\n",
       "\n",
       "<g class=\"displacy-arrow\">\n",
       "    <path class=\"displacy-arc\" id=\"arrow-2fa981853e1742e48660d8c4e316c10d-0-11\" stroke-width=\"2px\" d=\"M1862,302.0 1862,227.0 2747.0,227.0 2747.0,302.0\" fill=\"none\" stroke=\"currentColor\"/>\n",
       "    <text dy=\"1.25em\" style=\"font-size: 0.8em; letter-spacing: 1px\">\n",
       "        <textPath xlink:href=\"#arrow-2fa981853e1742e48660d8c4e316c10d-0-11\" class=\"displacy-label\" startOffset=\"50%\" side=\"left\" fill=\"currentColor\" text-anchor=\"middle\">pobj</textPath>\n",
       "    </text>\n",
       "    <path class=\"displacy-arrowhead\" d=\"M1862,304.0 L1858,296.0 1866,296.0\" fill=\"currentColor\"/>\n",
       "</g>\n",
       "\n",
       "<g class=\"displacy-arrow\">\n",
       "    <path class=\"displacy-arc\" id=\"arrow-2fa981853e1742e48660d8c4e316c10d-0-12\" stroke-width=\"2px\" d=\"M2012,302.0 2012,277.0 2141.0,277.0 2141.0,302.0\" fill=\"none\" stroke=\"currentColor\"/>\n",
       "    <text dy=\"1.25em\" style=\"font-size: 0.8em; letter-spacing: 1px\">\n",
       "        <textPath xlink:href=\"#arrow-2fa981853e1742e48660d8c4e316c10d-0-12\" class=\"displacy-label\" startOffset=\"50%\" side=\"left\" fill=\"currentColor\" text-anchor=\"middle\">nsubj</textPath>\n",
       "    </text>\n",
       "    <path class=\"displacy-arrowhead\" d=\"M2012,304.0 L2008,296.0 2016,296.0\" fill=\"currentColor\"/>\n",
       "</g>\n",
       "\n",
       "<g class=\"displacy-arrow\">\n",
       "    <path class=\"displacy-arc\" id=\"arrow-2fa981853e1742e48660d8c4e316c10d-0-13\" stroke-width=\"2px\" d=\"M1112,302.0 1112,202.0 2150.0,202.0 2150.0,302.0\" fill=\"none\" stroke=\"currentColor\"/>\n",
       "    <text dy=\"1.25em\" style=\"font-size: 0.8em; letter-spacing: 1px\">\n",
       "        <textPath xlink:href=\"#arrow-2fa981853e1742e48660d8c4e316c10d-0-13\" class=\"displacy-label\" startOffset=\"50%\" side=\"left\" fill=\"currentColor\" text-anchor=\"middle\">relcl</textPath>\n",
       "    </text>\n",
       "    <path class=\"displacy-arrowhead\" d=\"M2150.0,304.0 L2154.0,296.0 2146.0,296.0\" fill=\"currentColor\"/>\n",
       "</g>\n",
       "\n",
       "<g class=\"displacy-arrow\">\n",
       "    <path class=\"displacy-arc\" id=\"arrow-2fa981853e1742e48660d8c4e316c10d-0-14\" stroke-width=\"2px\" d=\"M2162,302.0 2162,277.0 2291.0,277.0 2291.0,302.0\" fill=\"none\" stroke=\"currentColor\"/>\n",
       "    <text dy=\"1.25em\" style=\"font-size: 0.8em; letter-spacing: 1px\">\n",
       "        <textPath xlink:href=\"#arrow-2fa981853e1742e48660d8c4e316c10d-0-14\" class=\"displacy-label\" startOffset=\"50%\" side=\"left\" fill=\"currentColor\" text-anchor=\"middle\">cc</textPath>\n",
       "    </text>\n",
       "    <path class=\"displacy-arrowhead\" d=\"M2291.0,304.0 L2295.0,296.0 2287.0,296.0\" fill=\"currentColor\"/>\n",
       "</g>\n",
       "\n",
       "<g class=\"displacy-arrow\">\n",
       "    <path class=\"displacy-arc\" id=\"arrow-2fa981853e1742e48660d8c4e316c10d-0-15\" stroke-width=\"2px\" d=\"M2162,302.0 2162,252.0 2444.0,252.0 2444.0,302.0\" fill=\"none\" stroke=\"currentColor\"/>\n",
       "    <text dy=\"1.25em\" style=\"font-size: 0.8em; letter-spacing: 1px\">\n",
       "        <textPath xlink:href=\"#arrow-2fa981853e1742e48660d8c4e316c10d-0-15\" class=\"displacy-label\" startOffset=\"50%\" side=\"left\" fill=\"currentColor\" text-anchor=\"middle\">conj</textPath>\n",
       "    </text>\n",
       "    <path class=\"displacy-arrowhead\" d=\"M2444.0,304.0 L2448.0,296.0 2440.0,296.0\" fill=\"currentColor\"/>\n",
       "</g>\n",
       "\n",
       "<g class=\"displacy-arrow\">\n",
       "    <path class=\"displacy-arc\" id=\"arrow-2fa981853e1742e48660d8c4e316c10d-0-16\" stroke-width=\"2px\" d=\"M2462,302.0 2462,277.0 2591.0,277.0 2591.0,302.0\" fill=\"none\" stroke=\"currentColor\"/>\n",
       "    <text dy=\"1.25em\" style=\"font-size: 0.8em; letter-spacing: 1px\">\n",
       "        <textPath xlink:href=\"#arrow-2fa981853e1742e48660d8c4e316c10d-0-16\" class=\"displacy-label\" startOffset=\"50%\" side=\"left\" fill=\"currentColor\" text-anchor=\"middle\">acomp</textPath>\n",
       "    </text>\n",
       "    <path class=\"displacy-arrowhead\" d=\"M2591.0,304.0 L2595.0,296.0 2587.0,296.0\" fill=\"currentColor\"/>\n",
       "</g>\n",
       "\n",
       "<g class=\"displacy-arrow\">\n",
       "    <path class=\"displacy-arc\" id=\"arrow-2fa981853e1742e48660d8c4e316c10d-0-17\" stroke-width=\"2px\" d=\"M2612,302.0 2612,277.0 2741.0,277.0 2741.0,302.0\" fill=\"none\" stroke=\"currentColor\"/>\n",
       "    <text dy=\"1.25em\" style=\"font-size: 0.8em; letter-spacing: 1px\">\n",
       "        <textPath xlink:href=\"#arrow-2fa981853e1742e48660d8c4e316c10d-0-17\" class=\"displacy-label\" startOffset=\"50%\" side=\"left\" fill=\"currentColor\" text-anchor=\"middle\">prep</textPath>\n",
       "    </text>\n",
       "    <path class=\"displacy-arrowhead\" d=\"M2741.0,304.0 L2745.0,296.0 2737.0,296.0\" fill=\"currentColor\"/>\n",
       "</g>\n",
       "</svg></span>"
      ],
      "text/plain": [
       "<IPython.core.display.HTML object>"
      ]
     },
     "metadata": {},
     "output_type": "display_data"
    }
   ],
   "source": [
    "options = {\"compact\": True, \"bg\": \"#09a3d5\",\n",
    "           \"color\": \"white\", \"font\": \"Source Sans Pro\"}\n",
    "displacy.render(sents[0], style=\"dep\", options=options, jupyter=True)"
   ]
  },
  {
   "cell_type": "code",
   "execution_count": null,
   "id": "b852bf17-14a9-4845-8d8d-89e6fead28fc",
   "metadata": {},
   "outputs": [],
   "source": []
  },
  {
   "cell_type": "code",
   "execution_count": 16,
   "id": "b429504b-5ae4-4514-ad94-d3acef26d66f",
   "metadata": {},
   "outputs": [
    {
     "name": "stdout",
     "output_type": "stream",
     "text": [
      "Text            Root Text  Root Dep   Root Head Text  Children of head\n",
      "I               I          nsubj      walked          [times, have, I, on, ..]\n",
      "ruins           ruins      pobj       on              [ruins]\n",
      "the remainings  remainings appos      ruins           [,, remainings, loved]\n",
      "places          places     pobj       of              [places]\n"
     ]
    }
   ],
   "source": [
    "fmt = \"{:15} {:10} {:10} {:15} {}\"\n",
    "print(fmt.format(\"Text\", \"Root Text\", \"Root Dep\", \"Root Head Text\", \"Children of head\"))\n",
    "for chunk in chunks[:4]:\n",
    "    print(fmt.format(chunk.text, chunk.root.text, chunk.root.dep_, chunk.root.head.text, [child for child in chunk.root.head.children] ))"
   ]
  },
  {
   "cell_type": "code",
   "execution_count": null,
   "id": "3ed68b31-e902-4ea8-84c8-85975b7e197f",
   "metadata": {},
   "outputs": [],
   "source": []
  },
  {
   "cell_type": "code",
   "execution_count": 17,
   "id": "7a8a01e2-6274-46e9-9fda-6b95d19841c6",
   "metadata": {},
   "outputs": [
    {
     "data": {
      "text/plain": [
       "(array([[ 0.8684267 , -0.29793227, -0.00327166, ..., -1.4163585 ,\n",
       "         -1.0987628 ,  0.15949313],\n",
       "        [ 0.49095225,  0.8099425 , -0.087525  , ..., -0.09679326,\n",
       "          0.00365211,  1.0270348 ],\n",
       "        [ 0.32219228,  0.3153325 , -0.8179532 , ...,  1.6104504 ,\n",
       "         -1.3762125 ,  0.07949264],\n",
       "        ...,\n",
       "        [ 0.23040941,  0.9806066 , -0.2744871 , ..., -1.0708449 ,\n",
       "         -0.09195751,  1.1454837 ],\n",
       "        [-0.7872363 , -0.8392252 , -0.8610389 , ...,  0.06520373,\n",
       "         -0.02104913, -0.26914716],\n",
       "        [ 0.        ,  0.        ,  0.        , ...,  0.        ,\n",
       "          0.        ,  0.        ]], dtype=float32),\n",
       " (686, 768))"
      ]
     },
     "execution_count": 17,
     "metadata": {},
     "output_type": "execute_result"
    }
   ],
   "source": [
    "trfdata = doc._.trf_data\n",
    "\n",
    "trfdata.all_outputs[0].data, trfdata.all_outputs[0].data.shape"
   ]
  },
  {
   "cell_type": "code",
   "execution_count": 18,
   "id": "3c9d6106-a315-49be-8f61-41a8a7f10cb6",
   "metadata": {},
   "outputs": [],
   "source": [
    "# DO not work in last version of en_core_web_trf\n",
    "#print(trfdata.tokens['input_texts'][0][:10])\n",
    "#print(trfdata.tokens['input_texts'][0][-10:])#\n",
    "#print(trfdata.tokens['input_texts'][1][:10])\n",
    "\n",
    "# # Show all entries that are like the given id\n",
    "# given_id = 14\n",
    "# token_locations = np.where(trfdata.wordpieces.input_ids[0] == given_id)[0]\n",
    "\n",
    "# tokens_on_doc = np.array(trfdata.wordpieces.strings[0])[token_locations]\n",
    "# tokens_on_doc\n",
    "\n",
    "# np.all(np.array(trfdata.wordpieces.strings) == np.array(trfdata.tokens['input_texts']))\n",
    "\n",
    "# np.all(trfdata.align.dataXd == trfdata.align.data[:,0])\n",
    "\n",
    "# np.all(trfdata.model_output['last_hidden_state'] == trfdata.tensors[0])\n",
    "\n",
    "# aligns = trfdata.align.dataXd\n",
    "# lengths = trfdata.align.lengths\n",
    "# for pos,length in zip(aligns,lengths):\n",
    "#     print(doc[pos-1:pos+length-1], end=\" \")"
   ]
  },
  {
   "cell_type": "code",
   "execution_count": 19,
   "id": "49c1b41f-0681-4812-8a4b-ba3798d60310",
   "metadata": {},
   "outputs": [
    {
     "data": {
      "text/plain": [
       "array([[ 0.8684267 , -0.29793227, -0.00327166, ..., -1.4163585 ,\n",
       "        -1.0987628 ,  0.15949313],\n",
       "       [ 0.49095225,  0.8099425 , -0.087525  , ..., -0.09679326,\n",
       "         0.00365211,  1.0270348 ],\n",
       "       [ 0.32219228,  0.3153325 , -0.8179532 , ...,  1.6104504 ,\n",
       "        -1.3762125 ,  0.07949264],\n",
       "       ...,\n",
       "       [ 0.23040941,  0.9806066 , -0.2744871 , ..., -1.0708449 ,\n",
       "        -0.09195751,  1.1454837 ],\n",
       "       [-0.7872363 , -0.8392252 , -0.8610389 , ...,  0.06520373,\n",
       "        -0.02104913, -0.26914716],\n",
       "       [ 0.        ,  0.        ,  0.        , ...,  0.        ,\n",
       "         0.        ,  0.        ]], dtype=float32)"
      ]
     },
     "execution_count": 19,
     "metadata": {},
     "output_type": "execute_result"
    }
   ],
   "source": [
    "trfdata.to_dict()['all_outputs'][-1][0]"
   ]
  },
  {
   "cell_type": "code",
   "execution_count": 20,
   "id": "23b76bb8-4f37-49fc-a148-32e5dbc06c0c",
   "metadata": {},
   "outputs": [
    {
     "name": "stdout",
     "output_type": "stream",
     "text": [
      "21 23 24 65\n",
      "21 29 30 65\n",
      "21 32 34 65\n",
      "21 35 38 65\n",
      "21 42 45 65\n",
      "21 45 46 65\n",
      "21 48 49 65\n",
      "21 50 51 65\n",
      "21 53 54 65\n",
      "21 55 57 65\n",
      "21 57 58 65\n",
      "21 62 64 65\n",
      "At first I was scared, each time I could feel my city, my current generation collapse, break into the black hole that thrives within it, I could feel humanity, the way I'm able to feel my body..\n",
      "[I, I, my city, my current generation, the black hole, that, it, I, humanity, the way, I, my body]\n"
     ]
    }
   ],
   "source": [
    "# Extract chunks from the ith-sentence\n",
    "ith = 1\n",
    "sentence = sents[ith]\n",
    "chunksents = []\n",
    "for chunk in chunks:\n",
    "    if chunk.start < sentence.start:\n",
    "        continue\n",
    "    if chunk.end > sentence.end:\n",
    "        break\n",
    "    else:\n",
    "        print(sentence.start, chunk.start, chunk.end, sentence.end)\n",
    "        chunksents.append(chunk)\n",
    "\n",
    "print(sentence)\n",
    "print(chunksents)"
   ]
  },
  {
   "cell_type": "code",
   "execution_count": 21,
   "id": "9d406de6-8f74-458a-ad71-009e3949b366",
   "metadata": {},
   "outputs": [
    {
     "name": "stdout",
     "output_type": "stream",
     "text": [
      "At         prep\n",
      "first      pcomp\n",
      "I          nsubj\n",
      "was        ccomp\n",
      "scared     acomp\n",
      ",          punct\n",
      "each       det\n",
      "time       npadvmod\n",
      "I          nsubj\n",
      "could      aux\n",
      "feel       relcl\n",
      "my         poss\n",
      "city       nsubj\n",
      ",          punct\n",
      "my         poss\n",
      "current    amod\n",
      "generation appos\n",
      "collapse   ccomp\n",
      ",          punct\n",
      "break      dep\n",
      "into       prep\n",
      "the        det\n",
      "black      amod\n",
      "hole       pobj\n",
      "that       nsubj\n",
      "thrives    relcl\n",
      "within     prep\n",
      "it         pobj\n",
      ",          punct\n",
      "I          nsubj\n",
      "could      aux\n",
      "feel       ROOT\n",
      "humanity   dobj\n",
      ",          punct\n",
      "the        det\n",
      "way        appos\n",
      "I          nsubj\n",
      "'m         relcl\n",
      "able       acomp\n",
      "to         aux\n",
      "feel       xcomp\n",
      "my         poss\n",
      "body       dobj\n",
      "..         punct\n"
     ]
    }
   ],
   "source": [
    "fmt = \"{:10} {}\"\n",
    "for token in sents[1]:\n",
    "    print(fmt.format(token.text, token.dep_))"
   ]
  },
  {
   "cell_type": "code",
   "execution_count": 22,
   "id": "318502e9-ec2a-4f9a-a61d-b5bf5b4bdf97",
   "metadata": {},
   "outputs": [
    {
     "name": "stdout",
     "output_type": "stream",
     "text": [
      "..\n",
      "..\n",
      ".\n",
      "\n",
      "\n",
      ".\n",
      ",\n",
      ".\n",
      "\n",
      "\n",
      "\n",
      ".\n",
      ".\n",
      ".\n",
      ".\n",
      "..\n",
      ".\n",
      ".\n",
      ".\n",
      ".\n",
      ".\n",
      "\n",
      "\n",
      "\n",
      "''\n",
      ".\n",
      "\n",
      "\n",
      "\n",
      ".\n",
      ".\n",
      "?\n",
      ".\n"
     ]
    }
   ],
   "source": [
    "for token in doc:\n",
    "    if (token.i+1) < len(doc) and doc[token.i + 1].is_sent_start:\n",
    "        print(token)"
   ]
  },
  {
   "cell_type": "code",
   "execution_count": null,
   "id": "0cb3683e-d994-419a-9aa3-8dfe1d579088",
   "metadata": {},
   "outputs": [],
   "source": []
  }
 ],
 "metadata": {
  "kernelspec": {
   "display_name": "Python 3 (ipykernel)",
   "language": "python",
   "name": "python3"
  },
  "language_info": {
   "codemirror_mode": {
    "name": "ipython",
    "version": 3
   },
   "file_extension": ".py",
   "mimetype": "text/x-python",
   "name": "python",
   "nbconvert_exporter": "python",
   "pygments_lexer": "ipython3",
   "version": "3.11.10"
  }
 },
 "nbformat": 4,
 "nbformat_minor": 5
}
